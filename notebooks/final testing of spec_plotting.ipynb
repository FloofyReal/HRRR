{
 "metadata": {
  "name": "",
  "signature": "sha256:e4a696c6977735e46685cdbe24540ca59fee6627ed6060579ab005d1ea72ee40"
 },
 "nbformat": 3,
 "nbformat_minor": 0,
 "worksheets": [
  {
   "cells": [
    {
     "cell_type": "code",
     "collapsed": false,
     "input": [
      "import os\n",
      "\n",
      "wkdir = os.getcwd()\n",
      "\n",
      "directory = wkdir[:]\n",
      "\n",
      "while \"HRRR\" in directory:\n",
      "    os.chdir(os.path.abspath('..'))\n",
      "    directory = os.getcwd()\n",
      "\n",
      "dirpath = os.path.abspath(\"HRRR\")\n",
      "\n",
      "dirpath2 = dirpath+'/functions/'\n",
      "    \n",
      "filenames = os.listdir(dirpath2)\n",
      "    \n",
      "for name in filenames:\n",
      "    execfile(dirpath2+'/'+name)\n",
      "\n",
      "os.chdir(wkdir)"
     ],
     "language": "python",
     "metadata": {},
     "outputs": [],
     "prompt_number": 1
    },
    {
     "cell_type": "code",
     "collapsed": false,
     "input": [
      "def spec_hrrr_plot(directory,parameter,datetimestart = None,datetimeend = None,hinp = None,hour=0,loc = [-97.485,36.605]):\n",
      "    \"\"\"\n",
      "    Plots a given parameter over a given timespan for a given parameter, modelhour, height, location and directory of \n",
      "    HRRR files.  Leaving hinp empty will cause it to plot the maximum values over all heights.  \n",
      "    \"\"\"\n",
      "    import numpy as np\n",
      "    import matplotlib\n",
      "    import os\n",
      "    import matplotlib.pyplot as plt\n",
      "    %matplotlib inline\n",
      "    \n",
      "    x = gather_hrrr_files(directory)\n",
      "    y = np.array(x[0])\n",
      "    y = y.transpose()\n",
      "    y = y[hour]\n",
      "    \n",
      "    dates = x[1]\n",
      "    \n",
      "    if datetimestart == None != datetimeend:\n",
      "        print 'error datetimestart and datetimeend can only be none if both are'\n",
      "        return\n",
      "    elif datetimestart == None:\n",
      "        startindex = 0\n",
      "        endindex = len(dates)\n",
      "    else:\n",
      "        startindex = dates.index(datetimestart)\n",
      "        endindex = dates.index(datetimeend) \n",
      "    \n",
      "    values = []\n",
      "    times = []\n",
      "    \n",
      "    y = y[startindex:endindex]\n",
      "    \n",
      "    wkdir = os.getcwd()\n",
      "    os.chdir(directory)\n",
      "    \n",
      "    for i in range(len(y)):\n",
      "        \n",
      "        if hinp != None:\n",
      "            info = read_Hrrr_spec_loc(y[i], parameter,loc = [-97.485,36.605], max = False)\n",
      "            index = info[2].tolist().index(hinp)\n",
      "            datart = info[0][0]\n",
      "            datarts = datart[index]\n",
      "        else:\n",
      "            info = read_Hrrr_spec_loc(y[i], parameter,loc = [-97.485,36.605], max = True)\n",
      "            datarts = info[0][0]\n",
      "        values.append(datarts)\n",
      "        times.append(x[1][i])\n",
      "    \n",
      "    units = info[-1]\n",
      "    \n",
      "    plt.plot(times, values)\n",
      "    \n",
      "    plt.xlabel('Time')\n",
      "    plt.ylabel(parameter[0]+units)\n",
      "    \n",
      "    os.chdir(wkdir)\n",
      "    \n",
      "    return"
     ],
     "language": "python",
     "metadata": {},
     "outputs": [],
     "prompt_number": 2
    },
    {
     "cell_type": "code",
     "collapsed": false,
     "input": [
      "directory = '/Users/mattjohnson/HRRRs'\n"
     ],
     "language": "python",
     "metadata": {},
     "outputs": [],
     "prompt_number": 3
    },
    {
     "cell_type": "code",
     "collapsed": false,
     "input": [
      "parameter = ['Relative humidity']"
     ],
     "language": "python",
     "metadata": {},
     "outputs": [],
     "prompt_number": 4
    },
    {
     "cell_type": "code",
     "collapsed": false,
     "input": [
      "spec_hrrr_plot(directory,parameter = parameter)"
     ],
     "language": "python",
     "metadata": {},
     "outputs": [
      {
       "metadata": {},
       "output_type": "display_data",
       "png": "[encoded data removed]",
       "text": [
        "<matplotlib.figure.Figure at 0x1033b5550>"
       ]
      }
     ],
     "prompt_number": 5
    },
    {
     "cell_type": "code",
     "collapsed": false,
     "input": [],
     "language": "python",
     "metadata": {},
     "outputs": []
    }
   ],
   "metadata": {}
  }
 ]
}