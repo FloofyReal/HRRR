{
 "metadata": {
  "name": "",
  "signature": "sha256:b6754cf90b2464ba830597f811091e34ded16ac3523f33f67df6598773d9e0d9"
 },
 "nbformat": 3,
 "nbformat_minor": 0,
 "worksheets": [
  {
   "cells": [
    {
     "cell_type": "code",
     "collapsed": false,
     "input": [
      "import pygrib\n",
      "from matplotlib import pyplot as plt\n",
      "from matplotlib import colors\n",
      "import numpy as np\n",
      "from mpl_toolkits.basemap import Basemap, addcyclic\n",
      "\n",
      "def grb_to_grid(grb_obj):\n",
      "    \"\"\"Takes a single grb object containing multiple\n",
      "    levels. Assumes same time, pressure levels. Compiles to a cube\"\"\"\n",
      "    n_levels = len(grb_obj)\n",
      "    levels = np.array([grb_element['level'] for grb_element in grb_obj])\n",
      "    indexes = np.argsort(levels)[::-1] # highest pressure first\n",
      "    cube = np.zeros([n_levels, grb_obj[0].values.shape[0], grb_obj[1].values.shape[1]])\n",
      "    for i in range(n_levels):\n",
      "        cube[i,:,:] = grb_obj[indexes[i]].values\n",
      "    cube_dict = {'data' : cube, 'units' : grb_obj[0]['units'],\n",
      "                 'levels' : levels[indexes]}\n",
      "    return cube_dict"
     ],
     "language": "python",
     "metadata": {},
     "outputs": [],
     "prompt_number": 27
    },
    {
     "cell_type": "code",
     "collapsed": false,
     "input": [
      "filename = '/Users/mattjohnson/HRRR/hrrr.3d.201405291100f001.grib2'\n"
     ],
     "language": "python",
     "metadata": {},
     "outputs": [],
     "prompt_number": 28
    },
    {
     "cell_type": "code",
     "collapsed": false,
     "input": [
      "myfile = pygrib.open(filename)"
     ],
     "language": "python",
     "metadata": {},
     "outputs": [],
     "prompt_number": 84
    },
    {
     "cell_type": "code",
     "collapsed": false,
     "input": [
      "grb = myfile.select(name='Cloud mixing ratio')\n",
      "grb_cube=grb_to_grid(grb)\n",
      "grb_ice = myfile.select(name='Cloud Ice')\n",
      "grb_cube_ice=grb_to_grid(grb_ice)"
     ],
     "language": "python",
     "metadata": {},
     "outputs": [],
     "prompt_number": 30
    },
    {
     "cell_type": "code",
     "collapsed": false,
     "input": [
      "f = plt.figure(figsize=[12,10])\n",
      "m = Basemap(llcrnrlon = -130,llcrnrlat = 20, urcrnrlon = -70,\n",
      "           urcrnrlat = 52 , projection = 'mill', area_thresh =10000 ,\n",
      "           resolution='l')\n",
      "lons,lats = grb[0]\n",
      "x, y = m(lons, lats)"
     ],
     "language": "python",
     "metadata": {},
     "outputs": [
      {
       "ename": "RuntimeError",
       "evalue": "Key/value not found",
       "output_type": "pyerr",
       "traceback": [
        "\u001b[0;31m---------------------------------------------------------------------------\u001b[0m\n\u001b[0;31mRuntimeError\u001b[0m                              Traceback (most recent call last)",
        "\u001b[0;32m<ipython-input-90-2b66a6c4bc00>\u001b[0m in \u001b[0;36m<module>\u001b[0;34m()\u001b[0m\n\u001b[1;32m      3\u001b[0m            \u001b[0murcrnrlat\u001b[0m \u001b[0;34m=\u001b[0m \u001b[0;36m52\u001b[0m \u001b[0;34m,\u001b[0m \u001b[0mprojection\u001b[0m \u001b[0;34m=\u001b[0m \u001b[0;34m'mill'\u001b[0m\u001b[0;34m,\u001b[0m \u001b[0marea_thresh\u001b[0m \u001b[0;34m=\u001b[0m\u001b[0;36m10000\u001b[0m \u001b[0;34m,\u001b[0m\u001b[0;34m\u001b[0m\u001b[0m\n\u001b[1;32m      4\u001b[0m            resolution='l')\n\u001b[0;32m----> 5\u001b[0;31m \u001b[0mlons\u001b[0m\u001b[0;34m,\u001b[0m\u001b[0mlats\u001b[0m \u001b[0;34m=\u001b[0m \u001b[0mgrb\u001b[0m\u001b[0;34m[\u001b[0m\u001b[0;36m0\u001b[0m\u001b[0;34m]\u001b[0m\u001b[0;34m.\u001b[0m\u001b[0mshape\u001b[0m\u001b[0;34m\u001b[0m\u001b[0m\n\u001b[0m\u001b[1;32m      6\u001b[0m \u001b[0mx\u001b[0m\u001b[0;34m,\u001b[0m \u001b[0my\u001b[0m \u001b[0;34m=\u001b[0m \u001b[0mm\u001b[0m\u001b[0;34m(\u001b[0m\u001b[0mlons\u001b[0m\u001b[0;34m,\u001b[0m \u001b[0mlats\u001b[0m\u001b[0;34m)\u001b[0m\u001b[0;34m\u001b[0m\u001b[0m\n",
        "\u001b[0;32m/Users/mattjohnson/anaconda/lib/python2.7/site-packages/pygrib.so\u001b[0m in \u001b[0;36mpygrib.gribmessage.__getattr__ (pygrib.c:8461)\u001b[0;34m()\u001b[0m\n",
        "\u001b[0;32m/Users/mattjohnson/anaconda/lib/python2.7/site-packages/pygrib.so\u001b[0m in \u001b[0;36mpygrib.gribmessage.__getitem__ (pygrib.c:13417)\u001b[0;34m()\u001b[0m\n",
        "\u001b[0;31mRuntimeError\u001b[0m: Key/value not found"
       ]
      }
     ],
     "prompt_number": 90
    },
    {
     "cell_type": "code",
     "collapsed": false,
     "input": [
      "myfile.messagenumber"
     ],
     "language": "python",
     "metadata": {},
     "outputs": []
    },
    {
     "cell_type": "code",
     "collapsed": false,
     "input": [
      "grb = myfile.select(name='Cloud mixing ratio')"
     ],
     "language": "python",
     "metadata": {},
     "outputs": []
    },
    {
     "cell_type": "code",
     "collapsed": false,
     "input": [
      "grb"
     ],
     "language": "python",
     "metadata": {},
     "outputs": [
      {
       "metadata": {},
       "output_type": "pyout",
       "prompt_number": 32,
       "text": [
        "[10:Cloud mixing ratio:kg kg**-1 (instant):lambert:isobaricInhPa:level 5000 Pa:fcst time 1 hrs:from 201405291100,\n",
        " 24:Cloud mixing ratio:kg kg**-1 (instant):lambert:isobaricInhPa:level 7500 Pa:fcst time 1 hrs:from 201405291100,\n",
        " 38:Cloud mixing ratio:kg kg**-1 (instant):lambert:isobaricInhPa:level 10000 Pa:fcst time 1 hrs:from 201405291100,\n",
        " 52:Cloud mixing ratio:kg kg**-1 (instant):lambert:isobaricInhPa:level 12500 Pa:fcst time 1 hrs:from 201405291100,\n",
        " 66:Cloud mixing ratio:kg kg**-1 (instant):lambert:isobaricInhPa:level 15000 Pa:fcst time 1 hrs:from 201405291100,\n",
        " 80:Cloud mixing ratio:kg kg**-1 (instant):lambert:isobaricInhPa:level 17500 Pa:fcst time 1 hrs:from 201405291100,\n",
        " 94:Cloud mixing ratio:kg kg**-1 (instant):lambert:isobaricInhPa:level 20000 Pa:fcst time 1 hrs:from 201405291100,\n",
        " 108:Cloud mixing ratio:kg kg**-1 (instant):lambert:isobaricInhPa:level 22500 Pa:fcst time 1 hrs:from 201405291100,\n",
        " 122:Cloud mixing ratio:kg kg**-1 (instant):lambert:isobaricInhPa:level 25000 Pa:fcst time 1 hrs:from 201405291100,\n",
        " 136:Cloud mixing ratio:kg kg**-1 (instant):lambert:isobaricInhPa:level 27500 Pa:fcst time 1 hrs:from 201405291100,\n",
        " 150:Cloud mixing ratio:kg kg**-1 (instant):lambert:isobaricInhPa:level 30000 Pa:fcst time 1 hrs:from 201405291100,\n",
        " 164:Cloud mixing ratio:kg kg**-1 (instant):lambert:isobaricInhPa:level 32500 Pa:fcst time 1 hrs:from 201405291100,\n",
        " 178:Cloud mixing ratio:kg kg**-1 (instant):lambert:isobaricInhPa:level 35000 Pa:fcst time 1 hrs:from 201405291100,\n",
        " 192:Cloud mixing ratio:kg kg**-1 (instant):lambert:isobaricInhPa:level 37500 Pa:fcst time 1 hrs:from 201405291100,\n",
        " 206:Cloud mixing ratio:kg kg**-1 (instant):lambert:isobaricInhPa:level 40000 Pa:fcst time 1 hrs:from 201405291100,\n",
        " 220:Cloud mixing ratio:kg kg**-1 (instant):lambert:isobaricInhPa:level 42500 Pa:fcst time 1 hrs:from 201405291100,\n",
        " 234:Cloud mixing ratio:kg kg**-1 (instant):lambert:isobaricInhPa:level 45000 Pa:fcst time 1 hrs:from 201405291100,\n",
        " 248:Cloud mixing ratio:kg kg**-1 (instant):lambert:isobaricInhPa:level 47500 Pa:fcst time 1 hrs:from 201405291100,\n",
        " 262:Cloud mixing ratio:kg kg**-1 (instant):lambert:isobaricInhPa:level 50000 Pa:fcst time 1 hrs:from 201405291100,\n",
        " 276:Cloud mixing ratio:kg kg**-1 (instant):lambert:isobaricInhPa:level 52500 Pa:fcst time 1 hrs:from 201405291100,\n",
        " 290:Cloud mixing ratio:kg kg**-1 (instant):lambert:isobaricInhPa:level 55000 Pa:fcst time 1 hrs:from 201405291100,\n",
        " 304:Cloud mixing ratio:kg kg**-1 (instant):lambert:isobaricInhPa:level 57500 Pa:fcst time 1 hrs:from 201405291100,\n",
        " 318:Cloud mixing ratio:kg kg**-1 (instant):lambert:isobaricInhPa:level 60000 Pa:fcst time 1 hrs:from 201405291100,\n",
        " 332:Cloud mixing ratio:kg kg**-1 (instant):lambert:isobaricInhPa:level 62500 Pa:fcst time 1 hrs:from 201405291100,\n",
        " 346:Cloud mixing ratio:kg kg**-1 (instant):lambert:isobaricInhPa:level 65000 Pa:fcst time 1 hrs:from 201405291100,\n",
        " 360:Cloud mixing ratio:kg kg**-1 (instant):lambert:isobaricInhPa:level 67500 Pa:fcst time 1 hrs:from 201405291100,\n",
        " 374:Cloud mixing ratio:kg kg**-1 (instant):lambert:isobaricInhPa:level 70000 Pa:fcst time 1 hrs:from 201405291100,\n",
        " 388:Cloud mixing ratio:kg kg**-1 (instant):lambert:isobaricInhPa:level 72500 Pa:fcst time 1 hrs:from 201405291100,\n",
        " 402:Cloud mixing ratio:kg kg**-1 (instant):lambert:isobaricInhPa:level 75000 Pa:fcst time 1 hrs:from 201405291100,\n",
        " 416:Cloud mixing ratio:kg kg**-1 (instant):lambert:isobaricInhPa:level 77500 Pa:fcst time 1 hrs:from 201405291100,\n",
        " 430:Cloud mixing ratio:kg kg**-1 (instant):lambert:isobaricInhPa:level 80000 Pa:fcst time 1 hrs:from 201405291100,\n",
        " 444:Cloud mixing ratio:kg kg**-1 (instant):lambert:isobaricInhPa:level 82500 Pa:fcst time 1 hrs:from 201405291100,\n",
        " 458:Cloud mixing ratio:kg kg**-1 (instant):lambert:isobaricInhPa:level 85000 Pa:fcst time 1 hrs:from 201405291100,\n",
        " 472:Cloud mixing ratio:kg kg**-1 (instant):lambert:isobaricInhPa:level 87500 Pa:fcst time 1 hrs:from 201405291100,\n",
        " 486:Cloud mixing ratio:kg kg**-1 (instant):lambert:isobaricInhPa:level 90000 Pa:fcst time 1 hrs:from 201405291100,\n",
        " 500:Cloud mixing ratio:kg kg**-1 (instant):lambert:isobaricInhPa:level 92500 Pa:fcst time 1 hrs:from 201405291100,\n",
        " 514:Cloud mixing ratio:kg kg**-1 (instant):lambert:isobaricInhPa:level 95000 Pa:fcst time 1 hrs:from 201405291100,\n",
        " 528:Cloud mixing ratio:kg kg**-1 (instant):lambert:isobaricInhPa:level 97500 Pa:fcst time 1 hrs:from 201405291100,\n",
        " 542:Cloud mixing ratio:kg kg**-1 (instant):lambert:isobaricInhPa:level 100000 Pa:fcst time 1 hrs:from 201405291100,\n",
        " 556:Cloud mixing ratio:kg kg**-1 (instant):lambert:isobaricInhPa:level 101300 Pa:fcst time 1 hrs:from 201405291100]"
       ]
      }
     ],
     "prompt_number": 32
    },
    {
     "cell_type": "code",
     "collapsed": false,
     "input": [
      "grb_cube=grb_to_grid(grb)\n",
      "grb_ice = myfile.select(name='Cloud Ice')\n",
      "grb_cube_ice=grb_to_grid(grb_ice)"
     ],
     "language": "python",
     "metadata": {},
     "outputs": [],
     "prompt_number": 33
    },
    {
     "cell_type": "code",
     "collapsed": false,
     "input": [
      "grb_ice"
     ],
     "language": "python",
     "metadata": {},
     "outputs": [
      {
       "metadata": {},
       "output_type": "pyout",
       "prompt_number": 34,
       "text": [
        "[11:Cloud Ice:kg m**-2 (instant):lambert:isobaricInhPa:level 5000 Pa:fcst time 1 hrs:from 201405291100,\n",
        " 25:Cloud Ice:kg m**-2 (instant):lambert:isobaricInhPa:level 7500 Pa:fcst time 1 hrs:from 201405291100,\n",
        " 39:Cloud Ice:kg m**-2 (instant):lambert:isobaricInhPa:level 10000 Pa:fcst time 1 hrs:from 201405291100,\n",
        " 53:Cloud Ice:kg m**-2 (instant):lambert:isobaricInhPa:level 12500 Pa:fcst time 1 hrs:from 201405291100,\n",
        " 67:Cloud Ice:kg m**-2 (instant):lambert:isobaricInhPa:level 15000 Pa:fcst time 1 hrs:from 201405291100,\n",
        " 81:Cloud Ice:kg m**-2 (instant):lambert:isobaricInhPa:level 17500 Pa:fcst time 1 hrs:from 201405291100,\n",
        " 95:Cloud Ice:kg m**-2 (instant):lambert:isobaricInhPa:level 20000 Pa:fcst time 1 hrs:from 201405291100,\n",
        " 109:Cloud Ice:kg m**-2 (instant):lambert:isobaricInhPa:level 22500 Pa:fcst time 1 hrs:from 201405291100,\n",
        " 123:Cloud Ice:kg m**-2 (instant):lambert:isobaricInhPa:level 25000 Pa:fcst time 1 hrs:from 201405291100,\n",
        " 137:Cloud Ice:kg m**-2 (instant):lambert:isobaricInhPa:level 27500 Pa:fcst time 1 hrs:from 201405291100,\n",
        " 151:Cloud Ice:kg m**-2 (instant):lambert:isobaricInhPa:level 30000 Pa:fcst time 1 hrs:from 201405291100,\n",
        " 165:Cloud Ice:kg m**-2 (instant):lambert:isobaricInhPa:level 32500 Pa:fcst time 1 hrs:from 201405291100,\n",
        " 179:Cloud Ice:kg m**-2 (instant):lambert:isobaricInhPa:level 35000 Pa:fcst time 1 hrs:from 201405291100,\n",
        " 193:Cloud Ice:kg m**-2 (instant):lambert:isobaricInhPa:level 37500 Pa:fcst time 1 hrs:from 201405291100,\n",
        " 207:Cloud Ice:kg m**-2 (instant):lambert:isobaricInhPa:level 40000 Pa:fcst time 1 hrs:from 201405291100,\n",
        " 221:Cloud Ice:kg m**-2 (instant):lambert:isobaricInhPa:level 42500 Pa:fcst time 1 hrs:from 201405291100,\n",
        " 235:Cloud Ice:kg m**-2 (instant):lambert:isobaricInhPa:level 45000 Pa:fcst time 1 hrs:from 201405291100,\n",
        " 249:Cloud Ice:kg m**-2 (instant):lambert:isobaricInhPa:level 47500 Pa:fcst time 1 hrs:from 201405291100,\n",
        " 263:Cloud Ice:kg m**-2 (instant):lambert:isobaricInhPa:level 50000 Pa:fcst time 1 hrs:from 201405291100,\n",
        " 277:Cloud Ice:kg m**-2 (instant):lambert:isobaricInhPa:level 52500 Pa:fcst time 1 hrs:from 201405291100,\n",
        " 291:Cloud Ice:kg m**-2 (instant):lambert:isobaricInhPa:level 55000 Pa:fcst time 1 hrs:from 201405291100,\n",
        " 305:Cloud Ice:kg m**-2 (instant):lambert:isobaricInhPa:level 57500 Pa:fcst time 1 hrs:from 201405291100,\n",
        " 319:Cloud Ice:kg m**-2 (instant):lambert:isobaricInhPa:level 60000 Pa:fcst time 1 hrs:from 201405291100,\n",
        " 333:Cloud Ice:kg m**-2 (instant):lambert:isobaricInhPa:level 62500 Pa:fcst time 1 hrs:from 201405291100,\n",
        " 347:Cloud Ice:kg m**-2 (instant):lambert:isobaricInhPa:level 65000 Pa:fcst time 1 hrs:from 201405291100,\n",
        " 361:Cloud Ice:kg m**-2 (instant):lambert:isobaricInhPa:level 67500 Pa:fcst time 1 hrs:from 201405291100,\n",
        " 375:Cloud Ice:kg m**-2 (instant):lambert:isobaricInhPa:level 70000 Pa:fcst time 1 hrs:from 201405291100,\n",
        " 389:Cloud Ice:kg m**-2 (instant):lambert:isobaricInhPa:level 72500 Pa:fcst time 1 hrs:from 201405291100,\n",
        " 403:Cloud Ice:kg m**-2 (instant):lambert:isobaricInhPa:level 75000 Pa:fcst time 1 hrs:from 201405291100,\n",
        " 417:Cloud Ice:kg m**-2 (instant):lambert:isobaricInhPa:level 77500 Pa:fcst time 1 hrs:from 201405291100,\n",
        " 431:Cloud Ice:kg m**-2 (instant):lambert:isobaricInhPa:level 80000 Pa:fcst time 1 hrs:from 201405291100,\n",
        " 445:Cloud Ice:kg m**-2 (instant):lambert:isobaricInhPa:level 82500 Pa:fcst time 1 hrs:from 201405291100,\n",
        " 459:Cloud Ice:kg m**-2 (instant):lambert:isobaricInhPa:level 85000 Pa:fcst time 1 hrs:from 201405291100,\n",
        " 473:Cloud Ice:kg m**-2 (instant):lambert:isobaricInhPa:level 87500 Pa:fcst time 1 hrs:from 201405291100,\n",
        " 487:Cloud Ice:kg m**-2 (instant):lambert:isobaricInhPa:level 90000 Pa:fcst time 1 hrs:from 201405291100,\n",
        " 501:Cloud Ice:kg m**-2 (instant):lambert:isobaricInhPa:level 92500 Pa:fcst time 1 hrs:from 201405291100,\n",
        " 515:Cloud Ice:kg m**-2 (instant):lambert:isobaricInhPa:level 95000 Pa:fcst time 1 hrs:from 201405291100,\n",
        " 529:Cloud Ice:kg m**-2 (instant):lambert:isobaricInhPa:level 97500 Pa:fcst time 1 hrs:from 201405291100,\n",
        " 543:Cloud Ice:kg m**-2 (instant):lambert:isobaricInhPa:level 100000 Pa:fcst time 1 hrs:from 201405291100,\n",
        " 557:Cloud Ice:kg m**-2 (instant):lambert:isobaricInhPa:level 101300 Pa:fcst time 1 hrs:from 201405291100]"
       ]
      }
     ],
     "prompt_number": 34
    },
    {
     "cell_type": "code",
     "collapsed": false,
     "input": [
      "grb_cube_ice"
     ],
     "language": "python",
     "metadata": {},
     "outputs": [
      {
       "metadata": {},
       "output_type": "pyout",
       "prompt_number": 35,
       "text": [
        "{'data': array([[[  9.99999996e-13,   9.99999996e-13,   9.99999996e-13, ...,\n",
        "            9.99999996e-13,   9.99999996e-13,   9.99999996e-13],\n",
        "         [  9.99999996e-13,   9.99999996e-13,   9.99999996e-13, ...,\n",
        "            9.99999996e-13,   9.99999996e-13,   9.99999996e-13],\n",
        "         [  9.99999996e-13,   9.99999996e-13,   9.99999996e-13, ...,\n",
        "            9.99999996e-13,   9.99999996e-13,   9.99999996e-13],\n",
        "         ..., \n",
        "         [  9.99999996e-13,   9.99999996e-13,   9.99999996e-13, ...,\n",
        "            9.99999996e-13,   9.99999996e-13,   9.99999996e-13],\n",
        "         [  9.99999996e-13,   9.99999996e-13,   9.99999996e-13, ...,\n",
        "            9.99999996e-13,   9.99999996e-13,   9.99999996e-13],\n",
        "         [  9.99999996e-13,   9.99999996e-13,   9.99999996e-13, ...,\n",
        "            9.99999996e-13,   9.99999996e-13,   9.99999996e-13]],\n",
        " \n",
        "        [[  9.99999996e-13,   9.99999996e-13,   9.99999996e-13, ...,\n",
        "            9.99999996e-13,   9.99999996e-13,   9.99999996e-13],\n",
        "         [  9.99999996e-13,   9.99999996e-13,   9.99999996e-13, ...,\n",
        "            9.99999996e-13,   9.99999996e-13,   9.99999996e-13],\n",
        "         [  9.99999996e-13,   9.99999996e-13,   9.99999996e-13, ...,\n",
        "            9.99999996e-13,   9.99999996e-13,   9.99999996e-13],\n",
        "         ..., \n",
        "         [  9.99999996e-13,   9.99999996e-13,   9.99999996e-13, ...,\n",
        "            9.99999996e-13,   9.99999996e-13,   9.99999996e-13],\n",
        "         [  9.99999996e-13,   9.99999996e-13,   9.99999996e-13, ...,\n",
        "            9.99999996e-13,   9.99999996e-13,   9.99999996e-13],\n",
        "         [  9.99999996e-13,   9.99999996e-13,   9.99999996e-13, ...,\n",
        "            9.99999996e-13,   9.99999996e-13,   9.99999996e-13]],\n",
        " \n",
        "        [[  9.99999996e-13,   9.99999996e-13,   9.99999996e-13, ...,\n",
        "            9.99999996e-13,   9.99999996e-13,   9.99999996e-13],\n",
        "         [  9.99999996e-13,   9.99999996e-13,   9.99999996e-13, ...,\n",
        "            9.99999996e-13,   9.99999996e-13,   9.99999996e-13],\n",
        "         [  9.99999996e-13,   9.99999996e-13,   9.99999996e-13, ...,\n",
        "            9.99999996e-13,   9.99999996e-13,   9.99999996e-13],\n",
        "         ..., \n",
        "         [  9.99999996e-13,   9.99999996e-13,   9.99999996e-13, ...,\n",
        "            9.99999996e-13,   9.99999996e-13,   9.99999996e-13],\n",
        "         [  9.99999996e-13,   9.99999996e-13,   9.99999996e-13, ...,\n",
        "            9.99999996e-13,   9.99999996e-13,   9.99999996e-13],\n",
        "         [  9.99999996e-13,   9.99999996e-13,   9.99999996e-13, ...,\n",
        "            9.99999996e-13,   9.99999996e-13,   9.99999996e-13]],\n",
        " \n",
        "        ..., \n",
        "        [[  0.00000000e+00,   0.00000000e+00,   0.00000000e+00, ...,\n",
        "            0.00000000e+00,   0.00000000e+00,   0.00000000e+00],\n",
        "         [  0.00000000e+00,   0.00000000e+00,   0.00000000e+00, ...,\n",
        "            0.00000000e+00,   0.00000000e+00,   0.00000000e+00],\n",
        "         [  0.00000000e+00,   0.00000000e+00,   0.00000000e+00, ...,\n",
        "            0.00000000e+00,   0.00000000e+00,   0.00000000e+00],\n",
        "         ..., \n",
        "         [  0.00000000e+00,   0.00000000e+00,   0.00000000e+00, ...,\n",
        "            0.00000000e+00,   0.00000000e+00,   0.00000000e+00],\n",
        "         [  0.00000000e+00,   0.00000000e+00,   0.00000000e+00, ...,\n",
        "            0.00000000e+00,   0.00000000e+00,   0.00000000e+00],\n",
        "         [  0.00000000e+00,   0.00000000e+00,   0.00000000e+00, ...,\n",
        "            0.00000000e+00,   0.00000000e+00,   0.00000000e+00]],\n",
        " \n",
        "        [[  0.00000000e+00,   0.00000000e+00,   0.00000000e+00, ...,\n",
        "            0.00000000e+00,   0.00000000e+00,   0.00000000e+00],\n",
        "         [  0.00000000e+00,   0.00000000e+00,   0.00000000e+00, ...,\n",
        "            0.00000000e+00,   0.00000000e+00,   0.00000000e+00],\n",
        "         [  0.00000000e+00,   0.00000000e+00,   0.00000000e+00, ...,\n",
        "            0.00000000e+00,   0.00000000e+00,   0.00000000e+00],\n",
        "         ..., \n",
        "         [  0.00000000e+00,   0.00000000e+00,   0.00000000e+00, ...,\n",
        "            0.00000000e+00,   0.00000000e+00,   0.00000000e+00],\n",
        "         [  0.00000000e+00,   0.00000000e+00,   0.00000000e+00, ...,\n",
        "            0.00000000e+00,   0.00000000e+00,   0.00000000e+00],\n",
        "         [  0.00000000e+00,   0.00000000e+00,   0.00000000e+00, ...,\n",
        "            0.00000000e+00,   0.00000000e+00,   0.00000000e+00]],\n",
        " \n",
        "        [[  1.00000043e-12,   1.00000043e-12,   1.00000043e-12, ...,\n",
        "            1.00000043e-12,   1.00000043e-12,   1.00000043e-12],\n",
        "         [  1.00000043e-12,   1.00000043e-12,   1.00000043e-12, ...,\n",
        "            1.00000043e-12,   1.00000043e-12,   1.00000043e-12],\n",
        "         [  1.00000043e-12,   1.00000043e-12,   1.00000043e-12, ...,\n",
        "            1.00000043e-12,   1.00000043e-12,   1.00000043e-12],\n",
        "         ..., \n",
        "         [  1.00000043e-12,   1.00000043e-12,   1.00000043e-12, ...,\n",
        "            1.00000043e-12,   1.00000043e-12,   1.00000043e-12],\n",
        "         [  1.00000043e-12,   1.00000043e-12,   1.00000043e-12, ...,\n",
        "            1.00000043e-12,   1.00000043e-12,   1.00000043e-12],\n",
        "         [  1.00000043e-12,   1.00000043e-12,   1.00000043e-12, ...,\n",
        "            1.00000043e-12,   1.00000043e-12,   1.00000043e-12]]]),\n",
        " 'levels': array([1013, 1000,  975,  950,  925,  900,  875,  850,  825,  800,  775,\n",
        "         750,  725,  700,  675,  650,  625,  600,  575,  550,  525,  500,\n",
        "         475,  450,  425,  400,  375,  350,  325,  300,  275,  250,  225,\n",
        "         200,  175,  150,  125,  100,   75,   50]),\n",
        " 'units': u'kg m**-2'}"
       ]
      }
     ],
     "prompt_number": 35
    },
    {
     "cell_type": "code",
     "collapsed": false,
     "input": [
      "\n",
      "f = plt.figure(figsize=[12,10])\n",
      "m = Basemap(llcrnrlon = -130,llcrnrlat = 20, urcrnrlon = -70,\n",
      "           urcrnrlat = 52 , projection = 'mill', area_thresh =10000 ,\n",
      "           resolution='l')\n",
      "\n",
      "x,y = m(lon,lat)\n",
      "my_mesh = m.pcolormesh(x, y, grb_cube_ice['data'][10]*1000.0, vmax =  .05)\n",
      "my_coast = m.drawcoastlines(linewidth=1.25)\n",
      "my_states = m.drawstates()\n",
      "my_p = m.drawparallels(np.arange(20,80,4),labels=[1,1,0,0])\n",
      "my_m = m.drawmeridians(np.arange(-140,-60,4),labels=[0,0,0,1])\n",
      "plt.colorbar(label='g/m^3')"
     ],
     "language": "python",
     "metadata": {},
     "outputs": [
      {
       "ename": "AttributeError",
       "evalue": "'float' object has no attribute 'shape'",
       "output_type": "pyerr",
       "traceback": [
        "\u001b[0;31m---------------------------------------------------------------------------\u001b[0m\n\u001b[0;31mAttributeError\u001b[0m                            Traceback (most recent call last)",
        "\u001b[0;32m<ipython-input-36-9aca096edaa2>\u001b[0m in \u001b[0;36m<module>\u001b[0;34m()\u001b[0m\n\u001b[1;32m      6\u001b[0m \u001b[0;34m\u001b[0m\u001b[0m\n\u001b[1;32m      7\u001b[0m \u001b[0mx\u001b[0m\u001b[0;34m,\u001b[0m\u001b[0my\u001b[0m \u001b[0;34m=\u001b[0m \u001b[0mm\u001b[0m\u001b[0;34m(\u001b[0m\u001b[0mlon\u001b[0m\u001b[0;34m,\u001b[0m\u001b[0mlat\u001b[0m\u001b[0;34m)\u001b[0m\u001b[0;34m\u001b[0m\u001b[0m\n\u001b[0;32m----> 8\u001b[0;31m \u001b[0mmy_mesh\u001b[0m \u001b[0;34m=\u001b[0m \u001b[0mm\u001b[0m\u001b[0;34m.\u001b[0m\u001b[0mpcolormesh\u001b[0m\u001b[0;34m(\u001b[0m\u001b[0mx\u001b[0m\u001b[0;34m,\u001b[0m \u001b[0my\u001b[0m\u001b[0;34m,\u001b[0m \u001b[0mgrb_cube_ice\u001b[0m\u001b[0;34m[\u001b[0m\u001b[0;34m'data'\u001b[0m\u001b[0;34m]\u001b[0m\u001b[0;34m[\u001b[0m\u001b[0;36m10\u001b[0m\u001b[0;34m]\u001b[0m\u001b[0;34m*\u001b[0m\u001b[0;36m1000.0\u001b[0m\u001b[0;34m,\u001b[0m \u001b[0mvmax\u001b[0m \u001b[0;34m=\u001b[0m  \u001b[0;36m.05\u001b[0m\u001b[0;34m)\u001b[0m\u001b[0;34m\u001b[0m\u001b[0m\n\u001b[0m\u001b[1;32m      9\u001b[0m \u001b[0mmy_coast\u001b[0m \u001b[0;34m=\u001b[0m \u001b[0mm\u001b[0m\u001b[0;34m.\u001b[0m\u001b[0mdrawcoastlines\u001b[0m\u001b[0;34m(\u001b[0m\u001b[0mlinewidth\u001b[0m\u001b[0;34m=\u001b[0m\u001b[0;36m1.25\u001b[0m\u001b[0;34m)\u001b[0m\u001b[0;34m\u001b[0m\u001b[0m\n\u001b[1;32m     10\u001b[0m \u001b[0mmy_states\u001b[0m \u001b[0;34m=\u001b[0m \u001b[0mm\u001b[0m\u001b[0;34m.\u001b[0m\u001b[0mdrawstates\u001b[0m\u001b[0;34m(\u001b[0m\u001b[0;34m)\u001b[0m\u001b[0;34m\u001b[0m\u001b[0m\n",
        "\u001b[0;32m/Users/mattjohnson/anaconda/lib/python2.7/site-packages/mpl_toolkits/basemap/__init__.pyc\u001b[0m in \u001b[0;36mwith_transform\u001b[0;34m(self, x, y, data, *args, **kwargs)\u001b[0m\n\u001b[1;32m    519\u001b[0m             \u001b[0;31m# convert lat/lon coords to map projection coords.\u001b[0m\u001b[0;34m\u001b[0m\u001b[0;34m\u001b[0m\u001b[0m\n\u001b[1;32m    520\u001b[0m             \u001b[0mx\u001b[0m\u001b[0;34m,\u001b[0m \u001b[0my\u001b[0m \u001b[0;34m=\u001b[0m \u001b[0mself\u001b[0m\u001b[0;34m(\u001b[0m\u001b[0mx\u001b[0m\u001b[0;34m,\u001b[0m\u001b[0my\u001b[0m\u001b[0;34m)\u001b[0m\u001b[0;34m\u001b[0m\u001b[0m\n\u001b[0;32m--> 521\u001b[0;31m         \u001b[0;32mreturn\u001b[0m \u001b[0mplotfunc\u001b[0m\u001b[0;34m(\u001b[0m\u001b[0mself\u001b[0m\u001b[0;34m,\u001b[0m\u001b[0mx\u001b[0m\u001b[0;34m,\u001b[0m\u001b[0my\u001b[0m\u001b[0;34m,\u001b[0m\u001b[0mdata\u001b[0m\u001b[0;34m,\u001b[0m\u001b[0;34m*\u001b[0m\u001b[0margs\u001b[0m\u001b[0;34m,\u001b[0m\u001b[0;34m**\u001b[0m\u001b[0mkwargs\u001b[0m\u001b[0;34m)\u001b[0m\u001b[0;34m\u001b[0m\u001b[0m\n\u001b[0m\u001b[1;32m    522\u001b[0m     \u001b[0;32mreturn\u001b[0m \u001b[0mwith_transform\u001b[0m\u001b[0;34m\u001b[0m\u001b[0m\n\u001b[1;32m    523\u001b[0m \u001b[0;34m\u001b[0m\u001b[0m\n",
        "\u001b[0;32m/Users/mattjohnson/anaconda/lib/python2.7/site-packages/mpl_toolkits/basemap/__init__.pyc\u001b[0m in \u001b[0;36mpcolormesh\u001b[0;34m(self, x, y, data, **kwargs)\u001b[0m\n\u001b[1;32m   3416\u001b[0m             \u001b[0max\u001b[0m\u001b[0;34m.\u001b[0m\u001b[0mhold\u001b[0m\u001b[0;34m(\u001b[0m\u001b[0mh\u001b[0m\u001b[0;34m)\u001b[0m\u001b[0;34m\u001b[0m\u001b[0m\n\u001b[1;32m   3417\u001b[0m         \u001b[0;32mtry\u001b[0m\u001b[0;34m:\u001b[0m\u001b[0;34m\u001b[0m\u001b[0m\n\u001b[0;32m-> 3418\u001b[0;31m             \u001b[0mret\u001b[0m \u001b[0;34m=\u001b[0m  \u001b[0max\u001b[0m\u001b[0;34m.\u001b[0m\u001b[0mpcolormesh\u001b[0m\u001b[0;34m(\u001b[0m\u001b[0mx\u001b[0m\u001b[0;34m,\u001b[0m\u001b[0my\u001b[0m\u001b[0;34m,\u001b[0m\u001b[0mdata\u001b[0m\u001b[0;34m,\u001b[0m\u001b[0;34m**\u001b[0m\u001b[0mkwargs\u001b[0m\u001b[0;34m)\u001b[0m\u001b[0;34m\u001b[0m\u001b[0m\n\u001b[0m\u001b[1;32m   3419\u001b[0m         \u001b[0;32mexcept\u001b[0m\u001b[0;34m:\u001b[0m\u001b[0;34m\u001b[0m\u001b[0m\n\u001b[1;32m   3420\u001b[0m             \u001b[0max\u001b[0m\u001b[0;34m.\u001b[0m\u001b[0mhold\u001b[0m\u001b[0;34m(\u001b[0m\u001b[0mb\u001b[0m\u001b[0;34m)\u001b[0m\u001b[0;34m\u001b[0m\u001b[0m\n",
        "\u001b[0;32m/Users/mattjohnson/anaconda/lib/python2.7/site-packages/matplotlib/axes.pyc\u001b[0m in \u001b[0;36mpcolormesh\u001b[0;34m(self, *args, **kwargs)\u001b[0m\n\u001b[1;32m   7734\u001b[0m         \u001b[0mallmatch\u001b[0m \u001b[0;34m=\u001b[0m \u001b[0;34m(\u001b[0m\u001b[0mshading\u001b[0m \u001b[0;34m==\u001b[0m \u001b[0;34m'gouraud'\u001b[0m\u001b[0;34m)\u001b[0m\u001b[0;34m\u001b[0m\u001b[0m\n\u001b[1;32m   7735\u001b[0m \u001b[0;34m\u001b[0m\u001b[0m\n\u001b[0;32m-> 7736\u001b[0;31m         \u001b[0mX\u001b[0m\u001b[0;34m,\u001b[0m \u001b[0mY\u001b[0m\u001b[0;34m,\u001b[0m \u001b[0mC\u001b[0m \u001b[0;34m=\u001b[0m \u001b[0mself\u001b[0m\u001b[0;34m.\u001b[0m\u001b[0m_pcolorargs\u001b[0m\u001b[0;34m(\u001b[0m\u001b[0;34m'pcolormesh'\u001b[0m\u001b[0;34m,\u001b[0m \u001b[0;34m*\u001b[0m\u001b[0margs\u001b[0m\u001b[0;34m,\u001b[0m \u001b[0mallmatch\u001b[0m\u001b[0;34m=\u001b[0m\u001b[0mallmatch\u001b[0m\u001b[0;34m)\u001b[0m\u001b[0;34m\u001b[0m\u001b[0m\n\u001b[0m\u001b[1;32m   7737\u001b[0m         \u001b[0mNy\u001b[0m\u001b[0;34m,\u001b[0m \u001b[0mNx\u001b[0m \u001b[0;34m=\u001b[0m \u001b[0mX\u001b[0m\u001b[0;34m.\u001b[0m\u001b[0mshape\u001b[0m\u001b[0;34m\u001b[0m\u001b[0m\n\u001b[1;32m   7738\u001b[0m \u001b[0;34m\u001b[0m\u001b[0m\n",
        "\u001b[0;32m/Users/mattjohnson/anaconda/lib/python2.7/site-packages/matplotlib/axes.pyc\u001b[0m in \u001b[0;36m_pcolorargs\u001b[0;34m(funcname, *args, **kw)\u001b[0m\n\u001b[1;32m   7354\u001b[0m                 'Illegal arguments to %s; see help(%s)' % (funcname, funcname))\n\u001b[1;32m   7355\u001b[0m \u001b[0;34m\u001b[0m\u001b[0m\n\u001b[0;32m-> 7356\u001b[0;31m         \u001b[0mNx\u001b[0m \u001b[0;34m=\u001b[0m \u001b[0mX\u001b[0m\u001b[0;34m.\u001b[0m\u001b[0mshape\u001b[0m\u001b[0;34m[\u001b[0m\u001b[0;34m-\u001b[0m\u001b[0;36m1\u001b[0m\u001b[0;34m]\u001b[0m\u001b[0;34m\u001b[0m\u001b[0m\n\u001b[0m\u001b[1;32m   7357\u001b[0m         \u001b[0mNy\u001b[0m \u001b[0;34m=\u001b[0m \u001b[0mY\u001b[0m\u001b[0;34m.\u001b[0m\u001b[0mshape\u001b[0m\u001b[0;34m[\u001b[0m\u001b[0;36m0\u001b[0m\u001b[0;34m]\u001b[0m\u001b[0;34m\u001b[0m\u001b[0m\n\u001b[1;32m   7358\u001b[0m         \u001b[0;32mif\u001b[0m \u001b[0mlen\u001b[0m\u001b[0;34m(\u001b[0m\u001b[0mX\u001b[0m\u001b[0;34m.\u001b[0m\u001b[0mshape\u001b[0m\u001b[0;34m)\u001b[0m \u001b[0;34m!=\u001b[0m \u001b[0;36m2\u001b[0m \u001b[0;32mor\u001b[0m \u001b[0mX\u001b[0m\u001b[0;34m.\u001b[0m\u001b[0mshape\u001b[0m\u001b[0;34m[\u001b[0m\u001b[0;36m0\u001b[0m\u001b[0;34m]\u001b[0m \u001b[0;34m==\u001b[0m \u001b[0;36m1\u001b[0m\u001b[0;34m:\u001b[0m\u001b[0;34m\u001b[0m\u001b[0m\n",
        "\u001b[0;31mAttributeError\u001b[0m: 'float' object has no attribute 'shape'"
       ]
      }
     ],
     "prompt_number": 36
    },
    {
     "cell_type": "code",
     "collapsed": false,
     "input": [
      "print x"
     ],
     "language": "python",
     "metadata": {},
     "outputs": [
      {
       "output_type": "stream",
       "stream": "stdout",
       "text": [
        "18914248.1158\n"
       ]
      }
     ],
     "prompt_number": 37
    },
    {
     "cell_type": "raw",
     "metadata": {},
     "source": []
    },
    {
     "cell_type": "code",
     "collapsed": false,
     "input": [
      "print y"
     ],
     "language": "python",
     "metadata": {},
     "outputs": [
      {
       "output_type": "stream",
       "stream": "stdout",
       "text": [
        "1e+30\n"
       ]
      }
     ],
     "prompt_number": 38
    },
    {
     "cell_type": "code",
     "collapsed": false,
     "input": [
      "x"
     ],
     "language": "python",
     "metadata": {},
     "outputs": [
      {
       "metadata": {},
       "output_type": "pyout",
       "prompt_number": 16,
       "text": [
        "array([       0.        ,  6671692.45708087])"
       ]
      }
     ],
     "prompt_number": 16
    },
    {
     "cell_type": "code",
     "collapsed": false,
     "input": [
      "grb[0]"
     ],
     "language": "python",
     "metadata": {},
     "outputs": [
      {
       "metadata": {},
       "output_type": "pyout",
       "prompt_number": 39,
       "text": [
        "10:Cloud mixing ratio:kg kg**-1 (instant):lambert:isobaricInhPa:level 5000 Pa:fcst time 1 hrs:from 201405291100"
       ]
      }
     ],
     "prompt_number": 39
    },
    {
     "cell_type": "code",
     "collapsed": false,
     "input": [
      "type(grb[0])"
     ],
     "language": "python",
     "metadata": {},
     "outputs": [
      {
       "metadata": {},
       "output_type": "pyout",
       "prompt_number": 40,
       "text": [
        "pygrib.gribmessage"
       ]
      }
     ],
     "prompt_number": 40
    },
    {
     "cell_type": "code",
     "collapsed": false,
     "input": [
      "pygrib.gribmessage?"
     ],
     "language": "python",
     "metadata": {},
     "outputs": [],
     "prompt_number": 42
    },
    {
     "cell_type": "code",
     "collapsed": false,
     "input": [
      "grb[0].projparams"
     ],
     "language": "python",
     "metadata": {},
     "outputs": [
      {
       "metadata": {},
       "output_type": "pyout",
       "prompt_number": 45,
       "text": [
        "{'a': 6367470,\n",
        " 'b': 6367470,\n",
        " 'lat_0': 38.5,\n",
        " 'lat_1': 38.5,\n",
        " 'lat_2': 38.5,\n",
        " 'lon_0': 262.5,\n",
        " 'proj': 'lcc'}"
       ]
      }
     ],
     "prompt_number": 45
    },
    {
     "cell_type": "code",
     "collapsed": false,
     "input": [
      "grb[1].projparams"
     ],
     "language": "python",
     "metadata": {},
     "outputs": [
      {
       "metadata": {},
       "output_type": "pyout",
       "prompt_number": 47,
       "text": [
        "{'a': 6367470,\n",
        " 'b': 6367470,\n",
        " 'lat_0': 38.5,\n",
        " 'lat_1': 38.5,\n",
        " 'lat_2': 38.5,\n",
        " 'lon_0': 262.5,\n",
        " 'proj': 'lcc'}"
       ]
      }
     ],
     "prompt_number": 47
    },
    {
     "cell_type": "code",
     "collapsed": false,
     "input": [
      "type(grb)"
     ],
     "language": "python",
     "metadata": {},
     "outputs": [
      {
       "metadata": {},
       "output_type": "pyout",
       "prompt_number": 51,
       "text": [
        "list"
       ]
      }
     ],
     "prompt_number": 51
    },
    {
     "cell_type": "code",
     "collapsed": false,
     "input": [
      "grb_cube"
     ],
     "language": "python",
     "metadata": {},
     "outputs": [
      {
       "metadata": {},
       "output_type": "pyout",
       "prompt_number": 54,
       "text": [
        "{'data': array([[[  0.00000000e+00,   0.00000000e+00,   0.00000000e+00, ...,\n",
        "            0.00000000e+00,   0.00000000e+00,   0.00000000e+00],\n",
        "         [  0.00000000e+00,   0.00000000e+00,   0.00000000e+00, ...,\n",
        "            0.00000000e+00,   0.00000000e+00,   0.00000000e+00],\n",
        "         [  0.00000000e+00,   0.00000000e+00,   0.00000000e+00, ...,\n",
        "            0.00000000e+00,   0.00000000e+00,   0.00000000e+00],\n",
        "         ..., \n",
        "         [  0.00000000e+00,   0.00000000e+00,   0.00000000e+00, ...,\n",
        "            0.00000000e+00,   0.00000000e+00,   0.00000000e+00],\n",
        "         [  0.00000000e+00,   0.00000000e+00,   0.00000000e+00, ...,\n",
        "            0.00000000e+00,   0.00000000e+00,   0.00000000e+00],\n",
        "         [  0.00000000e+00,   0.00000000e+00,   0.00000000e+00, ...,\n",
        "            0.00000000e+00,   0.00000000e+00,   0.00000000e+00]],\n",
        " \n",
        "        [[  0.00000000e+00,   0.00000000e+00,   0.00000000e+00, ...,\n",
        "            0.00000000e+00,   0.00000000e+00,   0.00000000e+00],\n",
        "         [  0.00000000e+00,   0.00000000e+00,   0.00000000e+00, ...,\n",
        "            0.00000000e+00,   0.00000000e+00,   0.00000000e+00],\n",
        "         [  0.00000000e+00,   0.00000000e+00,   0.00000000e+00, ...,\n",
        "            0.00000000e+00,   0.00000000e+00,   0.00000000e+00],\n",
        "         ..., \n",
        "         [  0.00000000e+00,   0.00000000e+00,   0.00000000e+00, ...,\n",
        "            0.00000000e+00,   0.00000000e+00,   0.00000000e+00],\n",
        "         [  0.00000000e+00,   0.00000000e+00,   0.00000000e+00, ...,\n",
        "            0.00000000e+00,   0.00000000e+00,   0.00000000e+00],\n",
        "         [  0.00000000e+00,   0.00000000e+00,   0.00000000e+00, ...,\n",
        "            0.00000000e+00,   0.00000000e+00,   0.00000000e+00]],\n",
        " \n",
        "        [[  0.00000000e+00,   0.00000000e+00,   0.00000000e+00, ...,\n",
        "            0.00000000e+00,   0.00000000e+00,   0.00000000e+00],\n",
        "         [  0.00000000e+00,   0.00000000e+00,   0.00000000e+00, ...,\n",
        "            0.00000000e+00,   0.00000000e+00,   0.00000000e+00],\n",
        "         [  0.00000000e+00,   0.00000000e+00,   0.00000000e+00, ...,\n",
        "            0.00000000e+00,   0.00000000e+00,   0.00000000e+00],\n",
        "         ..., \n",
        "         [  0.00000000e+00,   0.00000000e+00,   9.99999997e-07, ...,\n",
        "            0.00000000e+00,   0.00000000e+00,   0.00000000e+00],\n",
        "         [  0.00000000e+00,   0.00000000e+00,   9.99999997e-07, ...,\n",
        "            0.00000000e+00,   0.00000000e+00,   0.00000000e+00],\n",
        "         [  0.00000000e+00,   0.00000000e+00,   0.00000000e+00, ...,\n",
        "            0.00000000e+00,   0.00000000e+00,   0.00000000e+00]],\n",
        " \n",
        "        ..., \n",
        "        [[  1.00000043e-12,   1.00000043e-12,   1.00000043e-12, ...,\n",
        "            1.00000043e-12,   1.00000043e-12,   1.00000043e-12],\n",
        "         [  1.00000043e-12,   1.00000043e-12,   1.00000043e-12, ...,\n",
        "            1.00000043e-12,   1.00000043e-12,   1.00000043e-12],\n",
        "         [  1.00000043e-12,   1.00000043e-12,   1.00000043e-12, ...,\n",
        "            1.00000043e-12,   1.00000043e-12,   1.00000043e-12],\n",
        "         ..., \n",
        "         [  1.00000043e-12,   1.00000043e-12,   1.00000043e-12, ...,\n",
        "            1.00000043e-12,   1.00000043e-12,   1.00000043e-12],\n",
        "         [  1.00000043e-12,   1.00000043e-12,   1.00000043e-12, ...,\n",
        "            1.00000043e-12,   1.00000043e-12,   1.00000043e-12],\n",
        "         [  1.00000043e-12,   1.00000043e-12,   1.00000043e-12, ...,\n",
        "            1.00000043e-12,   1.00000043e-12,   1.00000043e-12]],\n",
        " \n",
        "        [[  1.00000043e-12,   1.00000043e-12,   1.00000043e-12, ...,\n",
        "            1.00000043e-12,   1.00000043e-12,   1.00000043e-12],\n",
        "         [  1.00000043e-12,   1.00000043e-12,   1.00000043e-12, ...,\n",
        "            1.00000043e-12,   1.00000043e-12,   1.00000043e-12],\n",
        "         [  1.00000043e-12,   1.00000043e-12,   1.00000043e-12, ...,\n",
        "            1.00000043e-12,   1.00000043e-12,   1.00000043e-12],\n",
        "         ..., \n",
        "         [  1.00000043e-12,   1.00000043e-12,   1.00000043e-12, ...,\n",
        "            1.00000043e-12,   1.00000043e-12,   1.00000043e-12],\n",
        "         [  1.00000043e-12,   1.00000043e-12,   1.00000043e-12, ...,\n",
        "            1.00000043e-12,   1.00000043e-12,   1.00000043e-12],\n",
        "         [  1.00000043e-12,   1.00000043e-12,   1.00000043e-12, ...,\n",
        "            1.00000043e-12,   1.00000043e-12,   1.00000043e-12]],\n",
        " \n",
        "        [[  1.00000043e-12,   1.00000043e-12,   1.00000043e-12, ...,\n",
        "            1.00000043e-12,   1.00000043e-12,   1.00000043e-12],\n",
        "         [  1.00000043e-12,   1.00000043e-12,   1.00000043e-12, ...,\n",
        "            1.00000043e-12,   1.00000043e-12,   1.00000043e-12],\n",
        "         [  1.00000043e-12,   1.00000043e-12,   1.00000043e-12, ...,\n",
        "            1.00000043e-12,   1.00000043e-12,   1.00000043e-12],\n",
        "         ..., \n",
        "         [  1.00000043e-12,   1.00000043e-12,   1.00000043e-12, ...,\n",
        "            1.00000043e-12,   1.00000043e-12,   1.00000043e-12],\n",
        "         [  1.00000043e-12,   1.00000043e-12,   1.00000043e-12, ...,\n",
        "            1.00000043e-12,   1.00000043e-12,   1.00000043e-12],\n",
        "         [  1.00000043e-12,   1.00000043e-12,   1.00000043e-12, ...,\n",
        "            1.00000043e-12,   1.00000043e-12,   1.00000043e-12]]]),\n",
        " 'levels': array([1013, 1000,  975,  950,  925,  900,  875,  850,  825,  800,  775,\n",
        "         750,  725,  700,  675,  650,  625,  600,  575,  550,  525,  500,\n",
        "         475,  450,  425,  400,  375,  350,  325,  300,  275,  250,  225,\n",
        "         200,  175,  150,  125,  100,   75,   50]),\n",
        " 'units': u'kg kg**-1'}"
       ]
      }
     ],
     "prompt_number": 54
    },
    {
     "cell_type": "code",
     "collapsed": false,
     "input": [
      "type(grb_cube)"
     ],
     "language": "python",
     "metadata": {},
     "outputs": [
      {
       "metadata": {},
       "output_type": "pyout",
       "prompt_number": 55,
       "text": [
        "dict"
       ]
      }
     ],
     "prompt_number": 55
    },
    {
     "cell_type": "code",
     "collapsed": false,
     "input": [
      "grb_cube['levels']"
     ],
     "language": "python",
     "metadata": {},
     "outputs": [
      {
       "metadata": {},
       "output_type": "pyout",
       "prompt_number": 59,
       "text": [
        "array([1013, 1000,  975,  950,  925,  900,  875,  850,  825,  800,  775,\n",
        "        750,  725,  700,  675,  650,  625,  600,  575,  550,  525,  500,\n",
        "        475,  450,  425,  400,  375,  350,  325,  300,  275,  250,  225,\n",
        "        200,  175,  150,  125,  100,   75,   50])"
       ]
      }
     ],
     "prompt_number": 59
    },
    {
     "cell_type": "code",
     "collapsed": false,
     "input": [
      "grb_cube['levels'][10]"
     ],
     "language": "python",
     "metadata": {},
     "outputs": [
      {
       "metadata": {},
       "output_type": "pyout",
       "prompt_number": 60,
       "text": [
        "775"
       ]
      }
     ],
     "prompt_number": 60
    },
    {
     "cell_type": "code",
     "collapsed": false,
     "input": [
      "grb_cube.keys()"
     ],
     "language": "python",
     "metadata": {},
     "outputs": [
      {
       "metadata": {},
       "output_type": "pyout",
       "prompt_number": 62,
       "text": [
        "['units', 'levels', 'data']"
       ]
      }
     ],
     "prompt_number": 62
    },
    {
     "cell_type": "code",
     "collapsed": false,
     "input": [
      "grb_cube['data'][10]"
     ],
     "language": "python",
     "metadata": {},
     "outputs": [
      {
       "metadata": {},
       "output_type": "pyout",
       "prompt_number": 64,
       "text": [
        "array([[  0.00000000e+00,   0.00000000e+00,   0.00000000e+00, ...,\n",
        "          0.00000000e+00,   0.00000000e+00,   0.00000000e+00],\n",
        "       [  0.00000000e+00,   0.00000000e+00,   0.00000000e+00, ...,\n",
        "          0.00000000e+00,   0.00000000e+00,   0.00000000e+00],\n",
        "       [  0.00000000e+00,   0.00000000e+00,   0.00000000e+00, ...,\n",
        "          0.00000000e+00,   0.00000000e+00,   0.00000000e+00],\n",
        "       ..., \n",
        "       [  0.00000000e+00,   3.99999990e-05,   5.99999985e-05, ...,\n",
        "          0.00000000e+00,   0.00000000e+00,   0.00000000e+00],\n",
        "       [  0.00000000e+00,   1.99999995e-05,   2.99999992e-05, ...,\n",
        "          0.00000000e+00,   0.00000000e+00,   0.00000000e+00],\n",
        "       [  0.00000000e+00,   0.00000000e+00,   0.00000000e+00, ...,\n",
        "          0.00000000e+00,   0.00000000e+00,   0.00000000e+00]])"
       ]
      }
     ],
     "prompt_number": 64
    },
    {
     "cell_type": "code",
     "collapsed": false,
     "input": [
      "grb_cube['units']"
     ],
     "language": "python",
     "metadata": {},
     "outputs": [
      {
       "metadata": {},
       "output_type": "pyout",
       "prompt_number": 65,
       "text": [
        "u'kg kg**-1'"
       ]
      }
     ],
     "prompt_number": 65
    },
    {
     "cell_type": "code",
     "collapsed": false,
     "input": [
      "type(myfile)"
     ],
     "language": "python",
     "metadata": {},
     "outputs": [
      {
       "metadata": {},
       "output_type": "pyout",
       "prompt_number": 77,
       "text": [
        "pygrib.open"
       ]
      }
     ],
     "prompt_number": 77
    },
    {
     "cell_type": "code",
     "collapsed": false,
     "input": [
      "pygrib.open?"
     ],
     "language": "python",
     "metadata": {},
     "outputs": [],
     "prompt_number": 78
    },
    {
     "cell_type": "code",
     "collapsed": false,
     "input": [
      "myfile.__getitem__(4)"
     ],
     "language": "python",
     "metadata": {},
     "outputs": [
      {
       "metadata": {},
       "output_type": "pyout",
       "prompt_number": 85,
       "text": [
        "4:Dew point temperature:K (instant):lambert:isobaricInhPa:level 5000 Pa:fcst time 1 hrs:from 201405291100"
       ]
      }
     ],
     "prompt_number": 85
    },
    {
     "cell_type": "code",
     "collapsed": false,
     "input": [
      "\n",
      "grb = myfile.select(name='Cloud mixing ratio')"
     ],
     "language": "python",
     "metadata": {},
     "outputs": [],
     "prompt_number": 73
    },
    {
     "cell_type": "code",
     "collapsed": false,
     "input": [
      "x = myfile.select(name='Cloud Ice')"
     ],
     "language": "python",
     "metadata": {},
     "outputs": [],
     "prompt_number": 74
    },
    {
     "cell_type": "code",
     "collapsed": false,
     "input": [
      "myfile.message(4)"
     ],
     "language": "python",
     "metadata": {},
     "outputs": [
      {
       "metadata": {},
       "output_type": "pyout",
       "prompt_number": 88,
       "text": [
        "4:Dew point temperature:K (instant):lambert:isobaricInhPa:level 5000 Pa:fcst time 1 hrs:from 201405291100"
       ]
      }
     ],
     "prompt_number": 88
    },
    {
     "cell_type": "code",
     "collapsed": false,
     "input": [
      "x = grb[0]"
     ],
     "language": "python",
     "metadata": {},
     "outputs": [],
     "prompt_number": 96
    },
    {
     "cell_type": "code",
     "collapsed": false,
     "input": [
      "x"
     ],
     "language": "python",
     "metadata": {},
     "outputs": [
      {
       "metadata": {},
       "output_type": "pyout",
       "prompt_number": 97,
       "text": [
        "10:Cloud mixing ratio:kg kg**-1 (instant):lambert:isobaricInhPa:level 5000 Pa:fcst time 1 hrs:from 201405291100"
       ]
      }
     ],
     "prompt_number": 97
    },
    {
     "cell_type": "code",
     "collapsed": false,
     "input": [
      "type(x)"
     ],
     "language": "python",
     "metadata": {},
     "outputs": [
      {
       "metadata": {},
       "output_type": "pyout",
       "prompt_number": 98,
       "text": [
        "pygrib.gribmessage"
       ]
      }
     ],
     "prompt_number": 98
    },
    {
     "cell_type": "code",
     "collapsed": false,
     "input": [
      "pygrib.gribmessage?"
     ],
     "language": "python",
     "metadata": {},
     "outputs": [],
     "prompt_number": 99
    },
    {
     "cell_type": "code",
     "collapsed": false,
     "input": [
      "x.projparams"
     ],
     "language": "python",
     "metadata": {},
     "outputs": [
      {
       "metadata": {},
       "output_type": "pyout",
       "prompt_number": 100,
       "text": [
        "{'a': 6367470,\n",
        " 'b': 6367470,\n",
        " 'lat_0': 38.5,\n",
        " 'lat_1': 38.5,\n",
        " 'lat_2': 38.5,\n",
        " 'lon_0': 262.5,\n",
        " 'proj': 'lcc'}"
       ]
      }
     ],
     "prompt_number": 100
    },
    {
     "cell_type": "code",
     "collapsed": false,
     "input": [
      "x = grb[10]"
     ],
     "language": "python",
     "metadata": {},
     "outputs": [],
     "prompt_number": 103
    },
    {
     "cell_type": "code",
     "collapsed": false,
     "input": [
      "x.projparams"
     ],
     "language": "python",
     "metadata": {},
     "outputs": [
      {
       "metadata": {},
       "output_type": "pyout",
       "prompt_number": 104,
       "text": [
        "{'a': 6367470,\n",
        " 'b': 6367470,\n",
        " 'lat_0': 38.5,\n",
        " 'lat_1': 38.5,\n",
        " 'lat_2': 38.5,\n",
        " 'lon_0': 262.5,\n",
        " 'proj': 'lcc'}"
       ]
      }
     ],
     "prompt_number": 104
    },
    {
     "cell_type": "code",
     "collapsed": false,
     "input": [
      "x.expand_reduced"
     ],
     "language": "python",
     "metadata": {},
     "outputs": [
      {
       "metadata": {},
       "output_type": "pyout",
       "prompt_number": 105,
       "text": [
        "True"
       ]
      }
     ],
     "prompt_number": 105
    },
    {
     "cell_type": "code",
     "collapsed": false,
     "input": [
      "pygrib.open?"
     ],
     "language": "python",
     "metadata": {},
     "outputs": [],
     "prompt_number": 106
    },
    {
     "cell_type": "code",
     "collapsed": false,
     "input": [
      "grb"
     ],
     "language": "python",
     "metadata": {},
     "outputs": [
      {
       "metadata": {},
       "output_type": "pyout",
       "prompt_number": 107,
       "text": [
        "[10:Cloud mixing ratio:kg kg**-1 (instant):lambert:isobaricInhPa:level 5000 Pa:fcst time 1 hrs:from 201405291100,\n",
        " 24:Cloud mixing ratio:kg kg**-1 (instant):lambert:isobaricInhPa:level 7500 Pa:fcst time 1 hrs:from 201405291100,\n",
        " 38:Cloud mixing ratio:kg kg**-1 (instant):lambert:isobaricInhPa:level 10000 Pa:fcst time 1 hrs:from 201405291100,\n",
        " 52:Cloud mixing ratio:kg kg**-1 (instant):lambert:isobaricInhPa:level 12500 Pa:fcst time 1 hrs:from 201405291100,\n",
        " 66:Cloud mixing ratio:kg kg**-1 (instant):lambert:isobaricInhPa:level 15000 Pa:fcst time 1 hrs:from 201405291100,\n",
        " 80:Cloud mixing ratio:kg kg**-1 (instant):lambert:isobaricInhPa:level 17500 Pa:fcst time 1 hrs:from 201405291100,\n",
        " 94:Cloud mixing ratio:kg kg**-1 (instant):lambert:isobaricInhPa:level 20000 Pa:fcst time 1 hrs:from 201405291100,\n",
        " 108:Cloud mixing ratio:kg kg**-1 (instant):lambert:isobaricInhPa:level 22500 Pa:fcst time 1 hrs:from 201405291100,\n",
        " 122:Cloud mixing ratio:kg kg**-1 (instant):lambert:isobaricInhPa:level 25000 Pa:fcst time 1 hrs:from 201405291100,\n",
        " 136:Cloud mixing ratio:kg kg**-1 (instant):lambert:isobaricInhPa:level 27500 Pa:fcst time 1 hrs:from 201405291100,\n",
        " 150:Cloud mixing ratio:kg kg**-1 (instant):lambert:isobaricInhPa:level 30000 Pa:fcst time 1 hrs:from 201405291100,\n",
        " 164:Cloud mixing ratio:kg kg**-1 (instant):lambert:isobaricInhPa:level 32500 Pa:fcst time 1 hrs:from 201405291100,\n",
        " 178:Cloud mixing ratio:kg kg**-1 (instant):lambert:isobaricInhPa:level 35000 Pa:fcst time 1 hrs:from 201405291100,\n",
        " 192:Cloud mixing ratio:kg kg**-1 (instant):lambert:isobaricInhPa:level 37500 Pa:fcst time 1 hrs:from 201405291100,\n",
        " 206:Cloud mixing ratio:kg kg**-1 (instant):lambert:isobaricInhPa:level 40000 Pa:fcst time 1 hrs:from 201405291100,\n",
        " 220:Cloud mixing ratio:kg kg**-1 (instant):lambert:isobaricInhPa:level 42500 Pa:fcst time 1 hrs:from 201405291100,\n",
        " 234:Cloud mixing ratio:kg kg**-1 (instant):lambert:isobaricInhPa:level 45000 Pa:fcst time 1 hrs:from 201405291100,\n",
        " 248:Cloud mixing ratio:kg kg**-1 (instant):lambert:isobaricInhPa:level 47500 Pa:fcst time 1 hrs:from 201405291100,\n",
        " 262:Cloud mixing ratio:kg kg**-1 (instant):lambert:isobaricInhPa:level 50000 Pa:fcst time 1 hrs:from 201405291100,\n",
        " 276:Cloud mixing ratio:kg kg**-1 (instant):lambert:isobaricInhPa:level 52500 Pa:fcst time 1 hrs:from 201405291100,\n",
        " 290:Cloud mixing ratio:kg kg**-1 (instant):lambert:isobaricInhPa:level 55000 Pa:fcst time 1 hrs:from 201405291100,\n",
        " 304:Cloud mixing ratio:kg kg**-1 (instant):lambert:isobaricInhPa:level 57500 Pa:fcst time 1 hrs:from 201405291100,\n",
        " 318:Cloud mixing ratio:kg kg**-1 (instant):lambert:isobaricInhPa:level 60000 Pa:fcst time 1 hrs:from 201405291100,\n",
        " 332:Cloud mixing ratio:kg kg**-1 (instant):lambert:isobaricInhPa:level 62500 Pa:fcst time 1 hrs:from 201405291100,\n",
        " 346:Cloud mixing ratio:kg kg**-1 (instant):lambert:isobaricInhPa:level 65000 Pa:fcst time 1 hrs:from 201405291100,\n",
        " 360:Cloud mixing ratio:kg kg**-1 (instant):lambert:isobaricInhPa:level 67500 Pa:fcst time 1 hrs:from 201405291100,\n",
        " 374:Cloud mixing ratio:kg kg**-1 (instant):lambert:isobaricInhPa:level 70000 Pa:fcst time 1 hrs:from 201405291100,\n",
        " 388:Cloud mixing ratio:kg kg**-1 (instant):lambert:isobaricInhPa:level 72500 Pa:fcst time 1 hrs:from 201405291100,\n",
        " 402:Cloud mixing ratio:kg kg**-1 (instant):lambert:isobaricInhPa:level 75000 Pa:fcst time 1 hrs:from 201405291100,\n",
        " 416:Cloud mixing ratio:kg kg**-1 (instant):lambert:isobaricInhPa:level 77500 Pa:fcst time 1 hrs:from 201405291100,\n",
        " 430:Cloud mixing ratio:kg kg**-1 (instant):lambert:isobaricInhPa:level 80000 Pa:fcst time 1 hrs:from 201405291100,\n",
        " 444:Cloud mixing ratio:kg kg**-1 (instant):lambert:isobaricInhPa:level 82500 Pa:fcst time 1 hrs:from 201405291100,\n",
        " 458:Cloud mixing ratio:kg kg**-1 (instant):lambert:isobaricInhPa:level 85000 Pa:fcst time 1 hrs:from 201405291100,\n",
        " 472:Cloud mixing ratio:kg kg**-1 (instant):lambert:isobaricInhPa:level 87500 Pa:fcst time 1 hrs:from 201405291100,\n",
        " 486:Cloud mixing ratio:kg kg**-1 (instant):lambert:isobaricInhPa:level 90000 Pa:fcst time 1 hrs:from 201405291100,\n",
        " 500:Cloud mixing ratio:kg kg**-1 (instant):lambert:isobaricInhPa:level 92500 Pa:fcst time 1 hrs:from 201405291100,\n",
        " 514:Cloud mixing ratio:kg kg**-1 (instant):lambert:isobaricInhPa:level 95000 Pa:fcst time 1 hrs:from 201405291100,\n",
        " 528:Cloud mixing ratio:kg kg**-1 (instant):lambert:isobaricInhPa:level 97500 Pa:fcst time 1 hrs:from 201405291100,\n",
        " 542:Cloud mixing ratio:kg kg**-1 (instant):lambert:isobaricInhPa:level 100000 Pa:fcst time 1 hrs:from 201405291100,\n",
        " 556:Cloud mixing ratio:kg kg**-1 (instant):lambert:isobaricInhPa:level 101300 Pa:fcst time 1 hrs:from 201405291100]"
       ]
      }
     ],
     "prompt_number": 107
    },
    {
     "cell_type": "code",
     "collapsed": false,
     "input": [
      "type(grb)"
     ],
     "language": "python",
     "metadata": {},
     "outputs": [
      {
       "metadata": {},
       "output_type": "pyout",
       "prompt_number": 108,
       "text": [
        "list"
       ]
      }
     ],
     "prompt_number": 108
    },
    {
     "cell_type": "code",
     "collapsed": false,
     "input": [
      "type(grb[0])"
     ],
     "language": "python",
     "metadata": {},
     "outputs": [
      {
       "metadata": {},
       "output_type": "pyout",
       "prompt_number": 111,
       "text": [
        "pygrib.gribmessage"
       ]
      }
     ],
     "prompt_number": 111
    },
    {
     "cell_type": "code",
     "collapsed": false,
     "input": [
      "pygrib.gribmessage?"
     ],
     "language": "python",
     "metadata": {},
     "outputs": [],
     "prompt_number": 112
    },
    {
     "cell_type": "code",
     "collapsed": false,
     "input": [],
     "language": "python",
     "metadata": {},
     "outputs": []
    }
   ],
   "metadata": {}
  }
 ]
}