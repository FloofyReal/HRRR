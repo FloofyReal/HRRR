{
 "metadata": {
  "name": "",
  "signature": "sha256:029fffb061ff2ddc21065ed2c8c5c1d4236589d04bf655da20469252330f94bd"
 },
 "nbformat": 3,
 "nbformat_minor": 0,
 "worksheets": [
  {
   "cells": [
    {
     "cell_type": "code",
     "collapsed": false,
     "input": [
      "import numpy as np\n",
      "from scipy.io import netcdf\n"
     ],
     "language": "python",
     "metadata": {},
     "outputs": [],
     "prompt_number": 1
    },
    {
     "cell_type": "code",
     "collapsed": false,
     "input": [
      "f = netcdf.netcdf_file('/Users/mattjohnson/sgpkazrgeC1.a1.20140419.000001.cdf', 'r')"
     ],
     "language": "python",
     "metadata": {},
     "outputs": [],
     "prompt_number": 4
    },
    {
     "cell_type": "code",
     "collapsed": false,
     "input": [
      "f.dimensions"
     ],
     "language": "python",
     "metadata": {},
     "outputs": [
      {
       "metadata": {},
       "output_type": "pyout",
       "prompt_number": 13,
       "text": [
        "{'range': 678, 'time': None}"
       ]
      }
     ],
     "prompt_number": 13
    },
    {
     "cell_type": "code",
     "collapsed": false,
     "input": [
      "f.variables"
     ],
     "language": "python",
     "metadata": {},
     "outputs": [
      {
       "metadata": {},
       "output_type": "pyout",
       "prompt_number": 5,
       "text": [
        "{'alt': <scipy.io.netcdf.netcdf_variable at 0x105dbeb90>,\n",
        " 'base_time': <scipy.io.netcdf.netcdf_variable at 0x105db9c50>,\n",
        " 'cal_constant_copol': <scipy.io.netcdf.netcdf_variable at 0x105dbe3d0>,\n",
        " 'cal_constant_xpol': <scipy.io.netcdf.netcdf_variable at 0x105dbe490>,\n",
        " 'cold_noise_copol': <scipy.io.netcdf.netcdf_variable at 0x105dbe7d0>,\n",
        " 'cold_noise_xpol': <scipy.io.netcdf.netcdf_variable at 0x105dbe890>,\n",
        " 'hot_noise_copol': <scipy.io.netcdf.netcdf_variable at 0x105dbe990>,\n",
        " 'hot_noise_xpol': <scipy.io.netcdf.netcdf_variable at 0x105dbea50>,\n",
        " 'lat': <scipy.io.netcdf.netcdf_variable at 0x105dbeb10>,\n",
        " 'lon': <scipy.io.netcdf.netcdf_variable at 0x105dbeb50>,\n",
        " 'mean_doppler_velocity_copol': <scipy.io.netcdf.netcdf_variable at 0x105dbe0d0>,\n",
        " 'mean_doppler_velocity_xpol': <scipy.io.netcdf.netcdf_variable at 0x105dbe150>,\n",
        " 'range': <scipy.io.netcdf.netcdf_variable at 0x105db9ed0>,\n",
        " 'reflectivity_copol': <scipy.io.netcdf.netcdf_variable at 0x105db9f50>,\n",
        " 'reflectivity_xpol': <scipy.io.netcdf.netcdf_variable at 0x105db9f90>,\n",
        " 'rx_noise': <scipy.io.netcdf.netcdf_variable at 0x105dbe550>,\n",
        " 'signal_to_noise_ratio_copol': <scipy.io.netcdf.netcdf_variable at 0x105dbe310>,\n",
        " 'signal_to_noise_ratio_xpol': <scipy.io.netcdf.netcdf_variable at 0x105dbe390>,\n",
        " 'sky_noise_copol': <scipy.io.netcdf.netcdf_variable at 0x105dbe610>,\n",
        " 'sky_noise_xpol': <scipy.io.netcdf.netcdf_variable at 0x105dbe6d0>,\n",
        " 'spectral_width_copol': <scipy.io.netcdf.netcdf_variable at 0x105dbe1d0>,\n",
        " 'spectral_width_xpol': <scipy.io.netcdf.netcdf_variable at 0x105dbe210>,\n",
        " 'time': <scipy.io.netcdf.netcdf_variable at 0x105db9d90>,\n",
        " 'time_offset': <scipy.io.netcdf.netcdf_variable at 0x105db9c90>}"
       ]
      }
     ],
     "prompt_number": 5
    },
    {
     "cell_type": "code",
     "collapsed": false,
     "input": [
      "x = f.variables['mean_doppler_velocity_xpol']"
     ],
     "language": "python",
     "metadata": {},
     "outputs": [],
     "prompt_number": 14
    },
    {
     "cell_type": "code",
     "collapsed": false,
     "input": [
      "help(type(x))"
     ],
     "language": "python",
     "metadata": {},
     "outputs": [
      {
       "output_type": "stream",
       "stream": "stdout",
       "text": [
        "Help on class netcdf_variable in module scipy.io.netcdf:\n",
        "\n",
        "class netcdf_variable(__builtin__.object)\n",
        " |  A data object for the `netcdf` module.\n",
        " |  \n",
        " |  `netcdf_variable` objects are constructed by calling the method\n",
        " |  `netcdf_file.createVariable` on the `netcdf_file` object. `netcdf_variable`\n",
        " |  objects behave much like array objects defined in numpy, except that their\n",
        " |  data resides in a file. Data is read by indexing and written by assigning\n",
        " |  to an indexed subset; the entire array can be accessed by the index ``[:]``\n",
        " |  or (for scalars) by using the methods `getValue` and `assignValue`.\n",
        " |  `netcdf_variable` objects also have attribute `shape` with the same meaning\n",
        " |  as for arrays, but the shape cannot be modified. There is another read-only\n",
        " |  attribute `dimensions`, whose value is the tuple of dimension names.\n",
        " |  \n",
        " |  All other attributes correspond to variable attributes defined in\n",
        " |  the NetCDF file. Variable attributes are created by assigning to an\n",
        " |  attribute of the `netcdf_variable` object.\n",
        " |  \n",
        " |  Parameters\n",
        " |  ----------\n",
        " |  data : array_like\n",
        " |      The data array that holds the values for the variable.\n",
        " |      Typically, this is initialized as empty, but with the proper shape.\n",
        " |  typecode : dtype character code\n",
        " |      Desired data-type for the data array.\n",
        " |  size : int\n",
        " |      Desired element size for the data array.\n",
        " |  shape : sequence of ints\n",
        " |      The shape of the array.  This should match the lengths of the\n",
        " |      variable's dimensions.\n",
        " |  dimensions : sequence of strings\n",
        " |      The names of the dimensions used by the variable.  Must be in the\n",
        " |      same order of the dimension lengths given by `shape`.\n",
        " |  attributes : dict, optional\n",
        " |      Attribute values (any type) keyed by string names.  These attributes\n",
        " |      become attributes for the netcdf_variable object.\n",
        " |  \n",
        " |  \n",
        " |  Attributes\n",
        " |  ----------\n",
        " |  dimensions : list of str\n",
        " |      List of names of dimensions used by the variable object.\n",
        " |  isrec, shape\n",
        " |      Properties\n",
        " |  \n",
        " |  See also\n",
        " |  --------\n",
        " |  isrec, shape\n",
        " |  \n",
        " |  Methods defined here:\n",
        " |  \n",
        " |  __getitem__(self, index)\n",
        " |  \n",
        " |  __init__(self, data, typecode, size, shape, dimensions, attributes=None)\n",
        " |  \n",
        " |  __setattr__(self, attr, value)\n",
        " |  \n",
        " |  __setitem__(self, index, data)\n",
        " |  \n",
        " |  assignValue(self, value)\n",
        " |      Assign a scalar value to a `netcdf_variable` of length one.\n",
        " |      \n",
        " |      Parameters\n",
        " |      ----------\n",
        " |      value : scalar\n",
        " |          Scalar value (of compatible type) to assign to a length-one netcdf\n",
        " |          variable. This value will be written to file.\n",
        " |      \n",
        " |      Raises\n",
        " |      ------\n",
        " |      ValueError\n",
        " |          If the input is not a scalar, or if the destination is not a length-one\n",
        " |          netcdf variable.\n",
        " |  \n",
        " |  getValue(self)\n",
        " |      Retrieve a scalar value from a `netcdf_variable` of length one.\n",
        " |      \n",
        " |      Raises\n",
        " |      ------\n",
        " |      ValueError\n",
        " |          If the netcdf variable is an array of length greater than one,\n",
        " |          this exception will be raised.\n",
        " |  \n",
        " |  itemsize(self)\n",
        " |      Return the itemsize of the variable.\n",
        " |      \n",
        " |      Returns\n",
        " |      -------\n",
        " |      itemsize : int\n",
        " |          The element size of the variable (eg, 8 for float64).\n",
        " |  \n",
        " |  typecode(self)\n",
        " |      Return the typecode of the variable.\n",
        " |      \n",
        " |      Returns\n",
        " |      -------\n",
        " |      typecode : char\n",
        " |          The character typecode of the variable (eg, 'i' for int).\n",
        " |  \n",
        " |  ----------------------------------------------------------------------\n",
        " |  Data descriptors defined here:\n",
        " |  \n",
        " |  __dict__\n",
        " |      dictionary for instance variables (if defined)\n",
        " |  \n",
        " |  __weakref__\n",
        " |      list of weak references to the object (if defined)\n",
        " |  \n",
        " |  isrec\n",
        " |      Returns whether the variable has a record dimension or not.\n",
        " |      \n",
        " |      A record dimension is a dimension along which additional data could be\n",
        " |      easily appended in the netcdf data structure without much rewriting of\n",
        " |      the data file. This attribute is a read-only property of the\n",
        " |      `netcdf_variable`.\n",
        " |  \n",
        " |  shape\n",
        " |      Returns the shape tuple of the data variable.\n",
        " |      \n",
        " |      This is a read-only attribute and can not be modified in the\n",
        " |      same manner of other numpy arrays.\n",
        "\n"
       ]
      }
     ],
     "prompt_number": 16
    },
    {
     "cell_type": "code",
     "collapsed": false,
     "input": [
      "x.dimensions"
     ],
     "language": "python",
     "metadata": {},
     "outputs": [
      {
       "metadata": {},
       "output_type": "pyout",
       "prompt_number": 17,
       "text": [
        "('time', 'range')"
       ]
      }
     ],
     "prompt_number": 17
    },
    {
     "cell_type": "code",
     "collapsed": false,
     "input": [
      "x.units"
     ],
     "language": "python",
     "metadata": {},
     "outputs": [
      {
       "metadata": {},
       "output_type": "pyout",
       "prompt_number": 18,
       "text": [
        "'m/s'"
       ]
      }
     ],
     "prompt_number": 18
    },
    {
     "cell_type": "code",
     "collapsed": false,
     "input": [
      "x.data"
     ],
     "language": "python",
     "metadata": {},
     "outputs": [
      {
       "metadata": {},
       "output_type": "pyout",
       "prompt_number": 21,
       "text": [
        "array([[ 1.73111176, -0.88320279, -1.10413849, ...,  1.70003581,\n",
        "        -1.61596334, -4.57942581],\n",
        "       [-1.04389977, -0.90449435, -0.83518463, ..., -4.87633419,\n",
        "         4.70621014, -4.95190001],\n",
        "       [ 4.15427208, -1.37625766, -3.47799206, ...,  3.77141571,\n",
        "        -2.68405414, -3.73032331],\n",
        "       ..., \n",
        "       [-0.86639005,  0.1433256 ,  0.14319842, ..., -1.80675423,\n",
        "        -5.1615963 , -2.95161128],\n",
        "       [ 4.28561497, -0.38858208, -1.02808797, ..., -3.44310689,\n",
        "         1.76684892,  4.31972885],\n",
        "       [-5.2663269 , -1.36123908, -1.26874876, ..., -0.77401489,\n",
        "         0.43596858,  1.38342261]], dtype=float32)"
       ]
      }
     ],
     "prompt_number": 21
    },
    {
     "cell_type": "code",
     "collapsed": false,
     "input": [
      "x.shape"
     ],
     "language": "python",
     "metadata": {},
     "outputs": [
      {
       "metadata": {},
       "output_type": "pyout",
       "prompt_number": 22,
       "text": [
        "(23386, 678)"
       ]
      }
     ],
     "prompt_number": 22
    },
    {
     "cell_type": "code",
     "collapsed": false,
     "input": [
      "x.data.shape"
     ],
     "language": "python",
     "metadata": {},
     "outputs": [
      {
       "metadata": {},
       "output_type": "pyout",
       "prompt_number": 23,
       "text": [
        "(23386, 678)"
       ]
      }
     ],
     "prompt_number": 23
    },
    {
     "cell_type": "code",
     "collapsed": false,
     "input": [
      "filename = '/Users/mattjohnson/sgpkazrgeC1.a1.20140419.000001.cdf'"
     ],
     "language": "python",
     "metadata": {},
     "outputs": [],
     "prompt_number": 24
    },
    {
     "cell_type": "code",
     "collapsed": false,
     "input": [
      "filename[-19:-10]"
     ],
     "language": "python",
     "metadata": {},
     "outputs": [
      {
       "metadata": {},
       "output_type": "pyout",
       "prompt_number": 31,
       "text": [
        "'20140419.'"
       ]
      }
     ],
     "prompt_number": 31
    },
    {
     "cell_type": "code",
     "collapsed": false,
     "input": [
      "filename[-19:-15]"
     ],
     "language": "python",
     "metadata": {},
     "outputs": [
      {
       "metadata": {},
       "output_type": "pyout",
       "prompt_number": 33,
       "text": [
        "'2014'"
       ]
      }
     ],
     "prompt_number": 33
    },
    {
     "cell_type": "code",
     "collapsed": false,
     "input": [
      "filename[-15:-13]"
     ],
     "language": "python",
     "metadata": {},
     "outputs": [
      {
       "metadata": {},
       "output_type": "pyout",
       "prompt_number": 34,
       "text": [
        "'04'"
       ]
      }
     ],
     "prompt_number": 34
    },
    {
     "cell_type": "code",
     "collapsed": false,
     "input": [
      "filename[-13:-11]"
     ],
     "language": "python",
     "metadata": {},
     "outputs": [
      {
       "metadata": {},
       "output_type": "pyout",
       "prompt_number": 35,
       "text": [
        "'19'"
       ]
      }
     ],
     "prompt_number": 35
    },
    {
     "cell_type": "code",
     "collapsed": false,
     "input": [],
     "language": "python",
     "metadata": {},
     "outputs": []
    }
   ],
   "metadata": {}
  }
 ]
}