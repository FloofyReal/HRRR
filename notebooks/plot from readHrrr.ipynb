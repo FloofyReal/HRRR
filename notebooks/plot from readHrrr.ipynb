{
 "metadata": {
  "name": "",
  "signature": "sha256:6888b781443610edb1b24951d1dd02abae06250d22f8b9d88234addcbbb16e6f"
 },
 "nbformat": 3,
 "nbformat_minor": 0,
 "worksheets": [
  {
   "cells": [
    {
     "cell_type": "code",
     "collapsed": false,
     "input": [
      "import pygrib\n",
      "from matplotlib import pyplot as plt\n",
      "from matplotlib import colors\n",
      "import numpy as np\n",
      "from mpl_toolkits.basemap import Basemap, addcyclic\n",
      "\n",
      "def grb_to_grid(grb_obj):\n",
      "    \"\"\"Takes a single grb object containing multiple\n",
      "    levels. Assumes same time, pressure levels. Compiles to a cube\"\"\"\n",
      "    n_levels = len(grb_obj)\n",
      "    levels = np.array([grb_element['level'] for grb_element in grb_obj])\n",
      "    indexes = np.argsort(levels)[::-1] # highest pressure first\n",
      "    cube = np.zeros([n_levels, grb_obj[0].values.shape[0], grb_obj[1].values.shape[1]])\n",
      "    for i in range(n_levels):\n",
      "        cube[i,:,:] = grb_obj[indexes[i]].values\n",
      "    cube_dict = {'data' : cube, 'units' : grb_obj[0]['units'],\n",
      "                 'levels' : levels[indexes]}\n",
      "    return cube_dict\n",
      "    \n",
      "#adaption\n",
      "def readHrrr(filename, parameters = ['']):\n",
      "    #filename = '/Users/mattjohnson/HRRR/hrrr.3d.201405291100f001.grib2'\n",
      "      \n",
      "    myfile = pygrib.open(filename) #issues in script\n",
      "    parameterlist = ['Geopotential Height','Temperature','Relative humidity','Dew point temperature','Specific humidity','Vertical velocity','U component of wind','V component of wind','Absolute vorticity','Cloud mixing ratio','Cloud Ice','Rain mixing ratio','Snow mixing ratio','Graupel (snow pellets)']    \n",
      "       \n",
      "    if parameters != ['']:\n",
      "        for i in range(len(parameters)):\n",
      "            x = parameterlist.count(parameters[i])\n",
      "            if x == 0:                    \n",
      "                print 'requested parameter not in list'\n",
      "                print parameters[i]  \n",
      "                return 0\n",
      "        parameterlist = parameters[:]\n",
      "            \n",
      "                \n",
      "    data = []\n",
      "    grb = myfile.select(name = parameterlist[0]) \n",
      "    grb_cube = grb_to_grid(grb)\n",
      "    dataloc =  np.array(grb[0].latlons())\n",
      "    datah = grb_cube['levels']\n",
      "    units = []\n",
      "    \n",
      "    for p in parameterlist:\n",
      "        grb = myfile.select(name = p)\n",
      "        grb_cube = grb_to_grid(grb)\n",
      "        data.append(grb_cube['data'])\n",
      "        units.append(grb_cube['units'])\n",
      "    \n",
      "    return [data,parameterlist,datah,dataloc,units]"
     ],
     "language": "python",
     "metadata": {},
     "outputs": [],
     "prompt_number": 68
    },
    {
     "cell_type": "code",
     "collapsed": false,
     "input": [
      "filename = '/Users/mattjohnson/HRRR/hrrr.3d.201405291100f001.grib2'\n",
      "parameter = 'Cloud Ice'\n",
      "hinp = 800\n",
      "\n",
      "[data,parameterlist,datah,dataloc,units] = readHrrr(filename,[parameter])\n",
      "\n",
      "\n",
      "datah = datah.tolist()\n",
      "hindex = datah.index(hinp)\n",
      "\n",
      "\n",
      "f = plt.figure(figsize=[12,10])\n",
      "m = Basemap(llcrnrlon = -130,llcrnrlat = 20, urcrnrlon = -70,\n",
      "           urcrnrlat = 52 , projection = 'mill', area_thresh =10000 ,\n",
      "           resolution='l')\n",
      "\n",
      "\n",
      "x, y = m(dataloc[1],dataloc[0])\n",
      "data = np.array(data)\n",
      "newdata = data[0][hindex][:][:]\n",
      "newdata = data[0][17][:][:]\n",
      "\n",
      "my_mesh = m.pcolormesh(x, y, newdata*1000000, vmax =  .05)\n",
      "my_coast = m.drawcoastlines(linewidth=1.25)\n",
      "my_states = m.drawstates()\n",
      "my_p = m.drawparallels(np.arange(20,80,4),labels=[1,1,0,0])\n",
      "my_m = m.drawmeridians(np.arange(-140,-60,4),labels=[0,0,0,1])\n",
      "\n",
      "plt.colorbar(label=units[0])"
     ],
     "language": "python",
     "metadata": {},
     "outputs": [
      {
       "metadata": {},
       "output_type": "pyout",
       "prompt_number": 73,
       "text": [
        "<matplotlib.colorbar.Colorbar instance at 0x187570cb0>"
       ]
      }
     ],
     "prompt_number": 73
    },
    {
     "cell_type": "code",
     "collapsed": false,
     "input": [
      "plt.show()"
     ],
     "language": "python",
     "metadata": {},
     "outputs": [],
     "prompt_number": 76
    },
    {
     "cell_type": "code",
     "collapsed": false,
     "input": [],
     "language": "python",
     "metadata": {},
     "outputs": []
    }
   ],
   "metadata": {}
  }
 ]
}