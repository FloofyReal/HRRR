{
 "metadata": {
  "name": "",
  "signature": "sha256:0ded5b904ec3b7be51211744b87123d0e0a99ae56635612ed51236edabc62c05"
 },
 "nbformat": 3,
 "nbformat_minor": 0,
 "worksheets": [
  {
   "cells": [
    {
     "cell_type": "code",
     "collapsed": false,
     "input": [
      "import pygrib\n",
      "from matplotlib import pyplot as plt\n",
      "from matplotlib import colors\n",
      "import numpy as np\n",
      "from mpl_toolkits.basemap import Basemap, addcyclic\n",
      "\n",
      "def grb_to_grid(grb_obj):\n",
      "    \"\"\"Takes a single grb object containing multiple\n",
      "    levels. Assumes same time, pressure levels. Compiles to a cube\"\"\"\n",
      "    n_levels = len(grb_obj)\n",
      "    levels = np.array([grb_element['level'] for grb_element in grb_obj])\n",
      "    indexes = np.argsort(levels)[::-1] # highest pressure first\n",
      "    cube = np.zeros([n_levels, grb_obj[0].values.shape[0], grb_obj[1].values.shape[1]])\n",
      "    for i in range(n_levels):\n",
      "        cube[i,:,:] = grb_obj[indexes[i]].values\n",
      "    cube_dict = {'data' : cube, 'units' : grb_obj[0]['units'],\n",
      "                 'levels' : levels[indexes]}\n",
      "    return cube_dict\n",
      "\n",
      "parameters = ['']\n",
      "filename = '/Users/mattjohnson/HRRR/hrrr.3d.201405291100f001.grib2'\n",
      "\n",
      "\n",
      "myfile = pygrib.open(filename) #issues in script\n",
      "parameterlist = ['Geopotential Height','Temperature','Relative humidity','Dew point temperature','Specific humidity','Vertical velocity','U component of wind','V component of wind','Absolute vorticity','Cloud mixing ratio','Cloud Ice','Rain mixing ratio','Snow mixing ratio','Graupel (snow pellets)']    \n",
      "   \n",
      "if parameters != ['']:\n",
      "    for i in range(len(parameters)):\n",
      "        x = parameterlist.count(parameters[i])\n",
      "        if x == 0:                    \n",
      "            print 'requested parameter not in list'\n",
      "            print parameters[i]  \n",
      "    parameterlist = parameters[:]\n",
      "        \n",
      "            \n",
      "                \n",
      "        \n",
      "data = []\n",
      "grb = myfile.select(name = parameterlist[0]) \n",
      "grb_cube = grb_to_grid(grb)\n",
      "dataloc =  np.array(grb[0].latlons())\n",
      "datah = grb_cube['levels']\n",
      "units = []\n",
      "\n",
      "for p in parameterlist:\n",
      "    grb = myfile.select(name = p)\n",
      "    grb_cube = grb_to_grid(grb)\n",
      "    data.append(grb_cube['data'])\n",
      "    units.append(grb_cube['units'])\n",
      "\n"
     ],
     "language": "python",
     "metadata": {},
     "outputs": [],
     "prompt_number": 28
    },
    {
     "cell_type": "code",
     "collapsed": false,
     "input": [
      "parameters"
     ],
     "language": "python",
     "metadata": {},
     "outputs": [
      {
       "metadata": {},
       "output_type": "pyout",
       "prompt_number": 16,
       "text": [
        "['Temperature', 'Specific']"
       ]
      }
     ],
     "prompt_number": 16
    },
    {
     "cell_type": "code",
     "collapsed": false,
     "input": [
      "parameterlist.count('Specific')"
     ],
     "language": "python",
     "metadata": {},
     "outputs": [
      {
       "metadata": {},
       "output_type": "pyout",
       "prompt_number": 18,
       "text": [
        "1"
       ]
      }
     ],
     "prompt_number": 18
    },
    {
     "cell_type": "code",
     "collapsed": false,
     "input": [
      "parameterlist.index('Specific')"
     ],
     "language": "python",
     "metadata": {},
     "outputs": [
      {
       "metadata": {},
       "output_type": "pyout",
       "prompt_number": 19,
       "text": [
        "1"
       ]
      }
     ],
     "prompt_number": 19
    },
    {
     "cell_type": "code",
     "collapsed": false,
     "input": [
      "parameterlist[0]"
     ],
     "language": "python",
     "metadata": {},
     "outputs": [
      {
       "metadata": {},
       "output_type": "pyout",
       "prompt_number": 20,
       "text": [
        "'Temperature'"
       ]
      }
     ],
     "prompt_number": 20
    },
    {
     "cell_type": "code",
     "collapsed": false,
     "input": [
      "parameterlist[1]"
     ],
     "language": "python",
     "metadata": {},
     "outputs": [
      {
       "metadata": {},
       "output_type": "pyout",
       "prompt_number": 21,
       "text": [
        "'Specific'"
       ]
      }
     ],
     "prompt_number": 21
    },
    {
     "cell_type": "code",
     "collapsed": false,
     "input": [],
     "language": "python",
     "metadata": {},
     "outputs": []
    }
   ],
   "metadata": {}
  }
 ]
}