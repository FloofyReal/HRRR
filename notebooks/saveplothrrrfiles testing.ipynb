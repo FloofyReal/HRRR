{
 "metadata": {
  "name": "",
  "signature": "sha256:7150d23ab60328e047982a61cfa4727708928b95f7093b44c395bcadd2c7810b"
 },
 "nbformat": 3,
 "nbformat_minor": 0,
 "worksheets": [
  {
   "cells": [
    {
     "cell_type": "code",
     "collapsed": false,
     "input": [
      "from matplotlib import pyplot as plt\n",
      "from matplotlib import colors\n",
      "import numpy as np\n",
      "from mpl_toolkits.basemap import Basemap, addcyclic\n",
      "import pygrib\n",
      "import os\n",
      "\n",
      "filename = os.getcwd()+'/HRRRs/'+'hrrr.3d.201405291000f000.grib2'\n",
      "parameter = 'Relative humidity'\n",
      "fdirectory = os.getcwd()+'/images'\n",
      "size = (5,5)\n",
      "dpi = 600\n",
      "hinp=''\n",
      "scaling=1\n",
      "final_unit = ''\n",
      "vmax=None\n",
      "vmin=None\n",
      "\n",
      "if not os.path.exists(fdirectory):\n",
      "    os.makedirs(fdirectory)\n",
      "            \n",
      "if hinp != '':\n",
      "    [data,parameterlist,datah,dataloc,units] = read_Hrrr(filename,[parameter])\n",
      "else:\n",
      "    [data,parameterlist,datah,dataloc,units] = read_Hrrr(filename,[parameter],max=True)\n",
      "    \n",
      "if hinp !='':\n",
      "    datah = datah.tolist()\n",
      "    hindex = datah.index(hinp)\n",
      "    \n",
      "if final_unit == '':\n",
      "    final_unit = units[0]\n",
      "    \n",
      "f = plt.figure(figsize=[12,10])\n",
      "m = Basemap(llcrnrlon = -130,llcrnrlat = 20, urcrnrlon = -70,\n",
      "               urcrnrlat = 52 , projection = 'mill', area_thresh =10000 ,\n",
      "               resolution='l')\n",
      "    \n",
      "    \n",
      "x, y = m(dataloc[1],dataloc[0])\n",
      "data = np.array(data)\n",
      "    \n",
      "if hinp != '':\n",
      "   newdata = data[0][hindex][:][:]\n",
      "else:\n",
      "   newdata = data[0]\n",
      "    \n",
      "my_mesh = m.pcolormesh(x, y, newdata*scaling, vmax = vmax,vmin = vmin)\n",
      "my_coast = m.drawcoastlines(linewidth=1.25)\n",
      "my_states = m.drawstates()\n",
      "my_p = m.drawparallels(np.arange(20,80,4),labels=[1,1,0,0])\n",
      "my_m = m.drawmeridians(np.arange(-140,-60,4),labels=[0,0,0,1])\n",
      "    \n",
      "plt.colorbar(label=final_unit)\n",
      "plt.savefig(fdirectory+'.png',figsize = size,dpi=dpi)\n",
      "    "
     ],
     "language": "python",
     "metadata": {},
     "outputs": [],
     "prompt_number": 5
    },
    {
     "cell_type": "code",
     "collapsed": false,
     "input": [
      "import os\n",
      "\n",
      "wkdir = os.getcwd()\n",
      "\n",
      "directory = wkdir\n",
      "\n",
      "while \"HRRR\" in directory:\n",
      "    os.chdir(os.path.abspath('..'))\n",
      "\n",
      "dirpath = os.path.abspath(\"HRRR\")\n",
      "\n",
      "dirpath2 = dirpath+'/functions/'\n",
      "    \n",
      "filenames = os.listdir(dirpath2)\n",
      "    \n",
      "for name in filenames:\n",
      "    execfile(dirpath2+'/'+name)\n",
      "\n",
      "os.chdir(wkdir)"
     ],
     "language": "python",
     "metadata": {},
     "outputs": [],
     "prompt_number": 2
    },
    {
     "cell_type": "code",
     "collapsed": false,
     "input": [
      "fdirectory"
     ],
     "language": "python",
     "metadata": {},
     "outputs": [
      {
       "metadata": {},
       "output_type": "pyout",
       "prompt_number": 6,
       "text": [
        "'/Users/mattjohnson/images'"
       ]
      }
     ],
     "prompt_number": 6
    },
    {
     "cell_type": "code",
     "collapsed": false,
     "input": [],
     "language": "python",
     "metadata": {},
     "outputs": []
    }
   ],
   "metadata": {}
  }
 ]
}