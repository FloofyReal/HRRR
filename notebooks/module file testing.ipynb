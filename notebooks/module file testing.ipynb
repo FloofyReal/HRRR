{
 "metadata": {
  "name": "",
  "signature": "sha256:cda589aac9ab5dd40f9289073146e52bdc25fdb3c1de8b900c3e73de01a388ee"
 },
 "nbformat": 3,
 "nbformat_minor": 0,
 "worksheets": [
  {
   "cells": [
    {
     "cell_type": "code",
     "collapsed": false,
     "input": [
      "import os\n",
      "\n",
      "wkdir = os.getcwd()\n",
      "directory = wkdir\n",
      "\n",
      "while \"HRRR\" in directory:\n",
      "    os.chdir(os.path.abspath('..'))\n",
      "\n",
      "dirpath = os.path.abspath(\"HRRR\")\n",
      "\n",
      "dirpath2 = dirpath+'/functions/'\n",
      "    \n",
      "filenames = os.listdir(dirpath2)\n",
      "    \n",
      "for name in filenames:\n",
      "    execfile(dirpath2+'/'+name)\n",
      "\n",
      "os.chdir(wkdir)"
     ],
     "language": "python",
     "metadata": {},
     "outputs": [],
     "prompt_number": 5
    },
    {
     "cell_type": "code",
     "collapsed": false,
     "input": [],
     "language": "python",
     "metadata": {},
     "outputs": [
      {
       "metadata": {},
       "output_type": "pyout",
       "prompt_number": 2,
       "text": [
        "<function __main__.HRRR_inventory>"
       ]
      }
     ],
     "prompt_number": 2
    },
    {
     "cell_type": "code",
     "collapsed": false,
     "input": [],
     "language": "python",
     "metadata": {},
     "outputs": [
      {
       "ename": "ImportError",
       "evalue": "No module named pyhrrr",
       "output_type": "pyerr",
       "traceback": [
        "\u001b[0;31m---------------------------------------------------------------------------\u001b[0m\n\u001b[0;31mImportError\u001b[0m                               Traceback (most recent call last)",
        "\u001b[0;32m<ipython-input-4-dc64be980797>\u001b[0m in \u001b[0;36m<module>\u001b[0;34m()\u001b[0m\n\u001b[0;32m----> 1\u001b[0;31m \u001b[0;32mimport\u001b[0m \u001b[0mpyhrrr\u001b[0m\u001b[0;34m\u001b[0m\u001b[0m\n\u001b[0m",
        "\u001b[0;31mImportError\u001b[0m: No module named pyhrrr"
       ]
      }
     ],
     "prompt_number": 4
    },
    {
     "cell_type": "code",
     "collapsed": false,
     "input": [],
     "language": "python",
     "metadata": {},
     "outputs": []
    }
   ],
   "metadata": {}
  }
 ]
}