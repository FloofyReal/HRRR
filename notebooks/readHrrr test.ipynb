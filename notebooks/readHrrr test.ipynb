{
 "metadata": {
  "name": "",
  "signature": "sha256:78a083a888dd46afc2064a2cf793de5982dae034548346c010755bd6a6b066da"
 },
 "nbformat": 3,
 "nbformat_minor": 0,
 "worksheets": [
  {
   "cells": [
    {
     "cell_type": "code",
     "collapsed": false,
     "input": [
      "import pygrib\n",
      "from matplotlib import pyplot as plt\n",
      "from matplotlib import colors\n",
      "import numpy as np\n",
      "from mpl_toolkits.basemap import Basemap, addcyclic\n",
      "\n",
      "def grb_to_grid(grb_obj):\n",
      "    \"\"\"Takes a single grb object containing multiple\n",
      "    levels. Assumes same time, pressure levels. Compiles to a cube\"\"\"\n",
      "    n_levels = len(grb_obj)\n",
      "    levels = np.array([grb_element['level'] for grb_element in grb_obj])\n",
      "    indexes = np.argsort(levels)[::-1] # highest pressure first\n",
      "    cube = np.zeros([n_levels, grb_obj[0].values.shape[0], grb_obj[1].values.shape[1]])\n",
      "    for i in range(n_levels):\n",
      "        cube[i,:,:] = grb_obj[indexes[i]].values\n",
      "    cube_dict = {'data' : cube, 'units' : grb_obj[0]['units'],\n",
      "                 'levels' : levels[indexes]}\n",
      "    return cube_dict\n",
      "    \n",
      "#adaption\n",
      "\n",
      "filename = '/Users/mattjohnson/HRRR/hrrr.3d.201405291100f001.grib2'\n",
      "myfile = pygrib.open(filename) #issues \n",
      "parameters = ['Geopotential Height','Temperature','Relative humidity','Dew point temperature','Specific humidity','Vertical velocity','U component of wind','V component of wind','Absolute vorticity','Cloud mixing ratio','Cloud Ice','Rain mixing ratio','Snow mixing ratio','Graupel (snow pellets)']    \n",
      "data = []\n",
      "grb = myfile.select(name = parameters[0])\n",
      "grb_cube = grb_to_grid(grb)\n",
      "dataloc =  np.array(grb[0].latlons())\n",
      "datah = grb_cube['levels']\n",
      "units = []\n",
      "\n",
      "for p in parameters:\n",
      "    grb = myfile.select(name = p)\n",
      "    grb_cube = grb_to_grid(grb)\n",
      "    data.append(grb_cube['data'])\n",
      "    units.append(grb_cube['units'])\n",
      "    \n"
     ],
     "language": "python",
     "metadata": {},
     "outputs": [],
     "prompt_number": 13
    },
    {
     "cell_type": "code",
     "collapsed": false,
     "input": [
      "units"
     ],
     "language": "python",
     "metadata": {},
     "outputs": [
      {
       "metadata": {},
       "output_type": "pyout",
       "prompt_number": 14,
       "text": [
        "[u'gpm',\n",
        " u'K',\n",
        " u'%',\n",
        " u'K',\n",
        " u'kg kg**-1',\n",
        " u'Pa s**-1',\n",
        " u'm s**-1',\n",
        " u'm s**-1',\n",
        " u's**-1',\n",
        " u'kg kg**-1',\n",
        " u'kg m**-2',\n",
        " u'kg kg**-1',\n",
        " u'kg kg**-1',\n",
        " u'kg kg**-1']"
       ]
      }
     ],
     "prompt_number": 14
    },
    {
     "cell_type": "code",
     "collapsed": false,
     "input": [
      "datah"
     ],
     "language": "python",
     "metadata": {},
     "outputs": [
      {
       "metadata": {},
       "output_type": "pyout",
       "prompt_number": 15,
       "text": [
        "array([1013, 1000,  975,  950,  925,  900,  875,  850,  825,  800,  775,\n",
        "        750,  725,  700,  675,  650,  625,  600,  575,  550,  525,  500,\n",
        "        475,  450,  425,  400,  375,  350,  325,  300,  275,  250,  225,\n",
        "        200,  175,  150,  125,  100,   75,   50])"
       ]
      }
     ],
     "prompt_number": 15
    },
    {
     "cell_type": "code",
     "collapsed": false,
     "input": [
      "dataloc"
     ],
     "language": "python",
     "metadata": {},
     "outputs": [
      {
       "metadata": {},
       "output_type": "pyout",
       "prompt_number": 16,
       "text": [
        "array([[[  21.138     ,   21.14499128,   21.15197559, ...,   21.14723478,\n",
        "           21.14024574,   21.13324972],\n",
        "        [  21.16288622,   21.16988038,   21.17686756, ...,   21.1721248 ,\n",
        "           21.16513288,   21.15813398],\n",
        "        [  21.1877749 ,   21.19477194,   21.201762  , ...,   21.19701728,\n",
        "           21.19002248,   21.1830207 ],\n",
        "        ..., \n",
        "        [  47.80467269,   47.81497075,   47.82525873, ...,   47.81827543,\n",
        "           47.80798061,   47.79767571],\n",
        "        [  47.82921879,   47.83952016,   47.84981145, ...,   47.84282591,\n",
        "           47.83252777,   47.82221956],\n",
        "        [  47.85376132,   47.864066  ,   47.8743606 , ...,   47.86737281,\n",
        "           47.85707136,   47.84675984]],\n",
        "\n",
        "       [[-122.72      , -122.69331765, -122.66663096, ...,  -72.31525125,\n",
        "          -72.28856751,  -72.26188812],\n",
        "        [-122.72750154, -122.70081207, -122.67411825, ...,  -72.30775913,\n",
        "          -72.28106826,  -72.25438174],\n",
        "        [-122.73500744, -122.70831083, -122.68160988, ...,  -72.30026265,\n",
        "          -72.27356465,  -72.24687101],\n",
        "        ..., \n",
        "        [-134.07501103, -134.03845686, -134.00189051, ...,  -60.97328366,\n",
        "          -60.93672558,  -60.90017968],\n",
        "        [-134.09035687, -134.05379073, -134.0172124 , ...,  -60.95795363,\n",
        "          -60.92138358,  -60.88482572],\n",
        "        [-134.1057149 , -134.06913679, -134.03254648, ...,  -60.94261142,\n",
        "          -60.90602939,  -60.86945957]]])"
       ]
      }
     ],
     "prompt_number": 16
    },
    {
     "cell_type": "code",
     "collapsed": false,
     "input": [],
     "language": "python",
     "metadata": {},
     "outputs": []
    }
   ],
   "metadata": {}
  }
 ]
}