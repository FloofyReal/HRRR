{
 "metadata": {
  "name": "",
  "signature": "sha256:e18cf9272c5c95112581f5b447aa8d64ce8f5ae106e389bc650220f7aece17cf"
 },
 "nbformat": 3,
 "nbformat_minor": 0,
 "worksheets": [
  {
   "cells": [
    {
     "cell_type": "code",
     "collapsed": false,
     "input": [
      "from matplotlib import pyplot as plt\n",
      "from matplotlib import colors\n",
      "import numpy as np\n",
      "from mpl_toolkits.basemap import Basemap, addcyclic\n",
      "import pygrib\n",
      "\n",
      "def grb_to_grid(grb_obj):\n",
      "    #from scollis\n",
      "    \"\"\"Takes a single grb object containing multiple\n",
      "    levels. Assumes same time, pressure levels. Compiles to a cube\"\"\"\n",
      "    n_levels = len(grb_obj)\n",
      "    levels = np.array([grb_element['level'] for grb_element in grb_obj])\n",
      "    indexes = np.argsort(levels)[::-1] # highest pressure first\n",
      "    cube = np.zeros([n_levels, grb_obj[0].values.shape[0], grb_obj[1].values.shape[1]])\n",
      "    for i in range(n_levels):\n",
      "        cube[i,:,:] = grb_obj[indexes[i]].values\n",
      "    cube_dict = {'data' : cube, 'units' : grb_obj[0]['units'],\n",
      "                 'levels' : levels[indexes]}\n",
      "    return cube_dict\n",
      "\n",
      "filename = '/Users/mattjohnson/HRRRs/hrrr.3d.201405291100f000.grib2'\n",
      "parameters = ['Relative humidity']\n",
      "loc = [36.605,-97.485]\n",
      "max = False\n",
      "\n",
      "myfile = pygrib.open(filename) \n",
      "parameterlist = ['Geopotential Height','Temperature','Relative humidity','Dew point temperature',\n",
      "        'Specific humidity','Vertical velocity','U component of wind','V component of wind',\n",
      "        'Absolute vorticity','Cloud mixing ratio','Cloud Ice','Rain mixing ratio','Snow mixing ratio',\n",
      "        'Graupel (snow pellets)']    \n",
      "       \n",
      "if parameters != ['']:\n",
      "    for i in range(len(parameters)):\n",
      "        x = parameterlist.count(parameters[i])\n",
      "        if x == 0:                    \n",
      "            print 'requested parameter not in list'\n",
      "            print parameters[i]  \n",
      "    parameterlist = parameters[:]\n",
      "            \n",
      "                \n",
      "data = []\n",
      "grb = myfile.select(name = parameterlist[0]) \n",
      "grb_cube = grb_to_grid(grb)\n",
      "dataloc =  np.array(grb[0].latlons())\n",
      "datah = grb_cube['levels']\n",
      "units = []\n",
      "\n",
      "x = abs(dataloc[0]-loc[0])\n",
      "y = abs(dataloc[1]-loc[1])\n",
      "xy = x+y\n",
      "xymin = min(xy.flatten())\n",
      "xy2 = xy.flatten().tolist()\n",
      "xyflatindex = xy2.index(xymin)\n",
      "[ysize,xsize] = dataloc[0].shape\n",
      "zsize = len(grb_cube['levels'])\n",
      "xyindex = [xyflatindex/xsize, xyflatindex%xsize]\n",
      "\n",
      "    \n",
      "for p in parameterlist:\n",
      "    grb = myfile.select(name = p)\n",
      "    grb_cube = grb_to_grid(grb)\n",
      "    if not max:\n",
      "        newshape = grb_cube['data'].reshape([ysize,xsize,zsize])\n",
      "        data.append(newshape[xyindex[0]][xyindex[1]][:])\n",
      "    else:\n",
      "        newshape = grb_cube['data'].reshape([ysize,xsize,zsize])\n",
      "        data.append(newshape[xyindex[0]][xyindex[1]][:].max(axis=2))\n",
      "    units.append(grb_cube['units'])\n",
      "    \n",
      "\n",
      "\n"
     ],
     "language": "python",
     "metadata": {},
     "outputs": [],
     "prompt_number": 168
    },
    {
     "cell_type": "code",
     "collapsed": false,
     "input": [
      "dataloc[0][xyindex[0]][xyindex[1]]"
     ],
     "language": "python",
     "metadata": {},
     "outputs": [
      {
       "metadata": {},
       "output_type": "pyout",
       "prompt_number": 172,
       "text": [
        "36.616387052759805"
       ]
      }
     ],
     "prompt_number": 172
    },
    {
     "cell_type": "code",
     "collapsed": false,
     "input": [
      "dataloc[1][xyindex[0]][xyindex[1]]"
     ],
     "language": "python",
     "metadata": {},
     "outputs": [
      {
       "metadata": {},
       "output_type": "pyout",
       "prompt_number": 173,
       "text": [
        "-97.48858991917993"
       ]
      }
     ],
     "prompt_number": 173
    }
   ],
   "metadata": {}
  }
 ]
}